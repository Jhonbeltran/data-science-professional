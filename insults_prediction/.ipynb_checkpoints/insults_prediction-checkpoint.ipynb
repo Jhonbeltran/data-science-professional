{
 "cells": [
  {
   "cell_type": "markdown",
   "metadata": {},
   "source": [
    "# Predicción de insultos en Twitter"
   ]
  },
  {
   "cell_type": "code",
   "execution_count": 1,
   "metadata": {},
   "outputs": [],
   "source": [
    "import re, string\n",
    "import pandas as pd\n",
    "import numpy as np\n",
    "from sklearn.feature_extraction.text import CountVectorizer\n",
    "from sklearn.svm import LinearSVC"
   ]
  },
  {
   "cell_type": "markdown",
   "metadata": {},
   "source": [
    "## Cargar Los Datos Crudos"
   ]
  },
  {
   "cell_type": "code",
   "execution_count": 2,
   "metadata": {},
   "outputs": [],
   "source": [
    "def clean_text(text):\n",
    "    text = text.lower()\n",
    "    text = re.findall(r'\\b[a-z]+\\b', text)\n",
    "    return ' '.join(text)"
   ]
  },
  {
   "cell_type": "code",
   "execution_count": 3,
   "metadata": {},
   "outputs": [
    {
     "data": {
      "text/html": [
       "<div>\n",
       "<style scoped>\n",
       "    .dataframe tbody tr th:only-of-type {\n",
       "        vertical-align: middle;\n",
       "    }\n",
       "\n",
       "    .dataframe tbody tr th {\n",
       "        vertical-align: top;\n",
       "    }\n",
       "\n",
       "    .dataframe thead th {\n",
       "        text-align: right;\n",
       "    }\n",
       "</style>\n",
       "<table border=\"1\" class=\"dataframe\">\n",
       "  <thead>\n",
       "    <tr style=\"text-align: right;\">\n",
       "      <th></th>\n",
       "      <th>Insult</th>\n",
       "      <th>Date</th>\n",
       "      <th>Comment</th>\n",
       "    </tr>\n",
       "  </thead>\n",
       "  <tbody>\n",
       "    <tr>\n",
       "      <th>0</th>\n",
       "      <td>1</td>\n",
       "      <td>20120618192155Z</td>\n",
       "      <td>\"You fuck your dad.\"</td>\n",
       "    </tr>\n",
       "    <tr>\n",
       "      <th>1</th>\n",
       "      <td>0</td>\n",
       "      <td>20120528192215Z</td>\n",
       "      <td>\"i really don't understand your point.\\xa0 It ...</td>\n",
       "    </tr>\n",
       "    <tr>\n",
       "      <th>2</th>\n",
       "      <td>0</td>\n",
       "      <td>NaN</td>\n",
       "      <td>\"A\\\\xc2\\\\xa0majority of Canadians can and has ...</td>\n",
       "    </tr>\n",
       "    <tr>\n",
       "      <th>3</th>\n",
       "      <td>0</td>\n",
       "      <td>NaN</td>\n",
       "      <td>\"listen if you dont wanna get married to a man...</td>\n",
       "    </tr>\n",
       "    <tr>\n",
       "      <th>4</th>\n",
       "      <td>0</td>\n",
       "      <td>20120619094753Z</td>\n",
       "      <td>\"C\\xe1c b\\u1ea1n xu\\u1ed1ng \\u0111\\u01b0\\u1edd...</td>\n",
       "    </tr>\n",
       "  </tbody>\n",
       "</table>\n",
       "</div>"
      ],
      "text/plain": [
       "   Insult             Date                                            Comment\n",
       "0       1  20120618192155Z                               \"You fuck your dad.\"\n",
       "1       0  20120528192215Z  \"i really don't understand your point.\\xa0 It ...\n",
       "2       0              NaN  \"A\\\\xc2\\\\xa0majority of Canadians can and has ...\n",
       "3       0              NaN  \"listen if you dont wanna get married to a man...\n",
       "4       0  20120619094753Z  \"C\\xe1c b\\u1ea1n xu\\u1ed1ng \\u0111\\u01b0\\u1edd..."
      ]
     },
     "execution_count": 3,
     "metadata": {},
     "output_type": "execute_result"
    }
   ],
   "source": [
    "training_data = pd.read_csv('train.csv')\n",
    "training_data.head()"
   ]
  },
  {
   "cell_type": "code",
   "execution_count": 4,
   "metadata": {},
   "outputs": [],
   "source": [
    "training_data['cleaned_comment'] = training_data['Comment'].map(clean_text)"
   ]
  },
  {
   "cell_type": "code",
   "execution_count": 5,
   "metadata": {},
   "outputs": [
    {
     "data": {
      "text/html": [
       "<div>\n",
       "<style scoped>\n",
       "    .dataframe tbody tr th:only-of-type {\n",
       "        vertical-align: middle;\n",
       "    }\n",
       "\n",
       "    .dataframe tbody tr th {\n",
       "        vertical-align: top;\n",
       "    }\n",
       "\n",
       "    .dataframe thead th {\n",
       "        text-align: right;\n",
       "    }\n",
       "</style>\n",
       "<table border=\"1\" class=\"dataframe\">\n",
       "  <thead>\n",
       "    <tr style=\"text-align: right;\">\n",
       "      <th></th>\n",
       "      <th>Insult</th>\n",
       "      <th>Date</th>\n",
       "      <th>Comment</th>\n",
       "      <th>cleaned_comment</th>\n",
       "    </tr>\n",
       "  </thead>\n",
       "  <tbody>\n",
       "    <tr>\n",
       "      <th>0</th>\n",
       "      <td>1</td>\n",
       "      <td>20120618192155Z</td>\n",
       "      <td>\"You fuck your dad.\"</td>\n",
       "      <td>you fuck your dad</td>\n",
       "    </tr>\n",
       "    <tr>\n",
       "      <th>1</th>\n",
       "      <td>0</td>\n",
       "      <td>20120528192215Z</td>\n",
       "      <td>\"i really don't understand your point.\\xa0 It ...</td>\n",
       "      <td>i really don t understand your point it seems ...</td>\n",
       "    </tr>\n",
       "    <tr>\n",
       "      <th>2</th>\n",
       "      <td>0</td>\n",
       "      <td>NaN</td>\n",
       "      <td>\"A\\\\xc2\\\\xa0majority of Canadians can and has ...</td>\n",
       "      <td>a of canadians can and has been wrong before n...</td>\n",
       "    </tr>\n",
       "    <tr>\n",
       "      <th>3</th>\n",
       "      <td>0</td>\n",
       "      <td>NaN</td>\n",
       "      <td>\"listen if you dont wanna get married to a man...</td>\n",
       "      <td>listen if you dont wanna get married to a man ...</td>\n",
       "    </tr>\n",
       "    <tr>\n",
       "      <th>4</th>\n",
       "      <td>0</td>\n",
       "      <td>20120619094753Z</td>\n",
       "      <td>\"C\\xe1c b\\u1ea1n xu\\u1ed1ng \\u0111\\u01b0\\u1edd...</td>\n",
       "      <td>c b xu bi t xecnh c ho kh nc ng d ng cu xed ch...</td>\n",
       "    </tr>\n",
       "  </tbody>\n",
       "</table>\n",
       "</div>"
      ],
      "text/plain": [
       "   Insult             Date                                            Comment  \\\n",
       "0       1  20120618192155Z                               \"You fuck your dad.\"   \n",
       "1       0  20120528192215Z  \"i really don't understand your point.\\xa0 It ...   \n",
       "2       0              NaN  \"A\\\\xc2\\\\xa0majority of Canadians can and has ...   \n",
       "3       0              NaN  \"listen if you dont wanna get married to a man...   \n",
       "4       0  20120619094753Z  \"C\\xe1c b\\u1ea1n xu\\u1ed1ng \\u0111\\u01b0\\u1edd...   \n",
       "\n",
       "                                     cleaned_comment  \n",
       "0                                  you fuck your dad  \n",
       "1  i really don t understand your point it seems ...  \n",
       "2  a of canadians can and has been wrong before n...  \n",
       "3  listen if you dont wanna get married to a man ...  \n",
       "4  c b xu bi t xecnh c ho kh nc ng d ng cu xed ch...  "
      ]
     },
     "execution_count": 5,
     "metadata": {},
     "output_type": "execute_result"
    }
   ],
   "source": [
    "training_data.head()"
   ]
  },
  {
   "cell_type": "code",
   "execution_count": 6,
   "metadata": {},
   "outputs": [
    {
     "data": {
      "text/html": [
       "<div>\n",
       "<style scoped>\n",
       "    .dataframe tbody tr th:only-of-type {\n",
       "        vertical-align: middle;\n",
       "    }\n",
       "\n",
       "    .dataframe tbody tr th {\n",
       "        vertical-align: top;\n",
       "    }\n",
       "\n",
       "    .dataframe thead th {\n",
       "        text-align: right;\n",
       "    }\n",
       "</style>\n",
       "<table border=\"1\" class=\"dataframe\">\n",
       "  <thead>\n",
       "    <tr style=\"text-align: right;\">\n",
       "      <th></th>\n",
       "      <th>Insult</th>\n",
       "      <th>Date</th>\n",
       "      <th>Comment</th>\n",
       "      <th>cleaned_comment</th>\n",
       "    </tr>\n",
       "  </thead>\n",
       "  <tbody>\n",
       "    <tr>\n",
       "      <th>0</th>\n",
       "      <td>1</td>\n",
       "      <td>20120618192155Z</td>\n",
       "      <td>\"You fuck your dad.\"</td>\n",
       "      <td>you fuck your dad</td>\n",
       "    </tr>\n",
       "    <tr>\n",
       "      <th>7</th>\n",
       "      <td>1</td>\n",
       "      <td>NaN</td>\n",
       "      <td>\"shut the fuck up. you and the rest of your fa...</td>\n",
       "      <td>shut the fuck up you and the rest of your fagg...</td>\n",
       "    </tr>\n",
       "    <tr>\n",
       "      <th>8</th>\n",
       "      <td>1</td>\n",
       "      <td>20120502173553Z</td>\n",
       "      <td>\"Either you are fake or extremely stupid...may...</td>\n",
       "      <td>either you are fake or extremely stupid maybe ...</td>\n",
       "    </tr>\n",
       "    <tr>\n",
       "      <th>9</th>\n",
       "      <td>1</td>\n",
       "      <td>20120620160512Z</td>\n",
       "      <td>\"That you are an idiot who understands neither...</td>\n",
       "      <td>that you are an idiot who understands neither ...</td>\n",
       "    </tr>\n",
       "    <tr>\n",
       "      <th>15</th>\n",
       "      <td>1</td>\n",
       "      <td>20120611090207Z</td>\n",
       "      <td>\"FOR SOME REASON U SOUND RETARDED. LOL. DAMN. ...</td>\n",
       "      <td>for some reason u sound retarded lol damn wher...</td>\n",
       "    </tr>\n",
       "  </tbody>\n",
       "</table>\n",
       "</div>"
      ],
      "text/plain": [
       "    Insult             Date  \\\n",
       "0        1  20120618192155Z   \n",
       "7        1              NaN   \n",
       "8        1  20120502173553Z   \n",
       "9        1  20120620160512Z   \n",
       "15       1  20120611090207Z   \n",
       "\n",
       "                                              Comment  \\\n",
       "0                                \"You fuck your dad.\"   \n",
       "7   \"shut the fuck up. you and the rest of your fa...   \n",
       "8   \"Either you are fake or extremely stupid...may...   \n",
       "9   \"That you are an idiot who understands neither...   \n",
       "15  \"FOR SOME REASON U SOUND RETARDED. LOL. DAMN. ...   \n",
       "\n",
       "                                      cleaned_comment  \n",
       "0                                   you fuck your dad  \n",
       "7   shut the fuck up you and the rest of your fagg...  \n",
       "8   either you are fake or extremely stupid maybe ...  \n",
       "9   that you are an idiot who understands neither ...  \n",
       "15  for some reason u sound retarded lol damn wher...  "
      ]
     },
     "execution_count": 6,
     "metadata": {},
     "output_type": "execute_result"
    }
   ],
   "source": [
    "training_data[training_data['Insult'] == 1].head()"
   ]
  },
  {
   "cell_type": "code",
   "execution_count": 7,
   "metadata": {},
   "outputs": [
    {
     "data": {
      "text/plain": [
       "(3947, 4)"
      ]
     },
     "execution_count": 7,
     "metadata": {},
     "output_type": "execute_result"
    }
   ],
   "source": [
    "training_data.shape"
   ]
  },
  {
   "cell_type": "markdown",
   "metadata": {},
   "source": [
    "> Podemos pareciar que como se tiene definido que insulto es 1 y ausencia aparente de insulto es 0 podemos establecer el porcentaje de insultos en los datos usando un promedio."
   ]
  },
  {
   "cell_type": "code",
   "execution_count": 8,
   "metadata": {},
   "outputs": [
    {
     "name": "stdout",
     "output_type": "stream",
     "text": [
      "El promedio de los datos es 0.2657714720040537\n",
      "El promedio de los insultos es 0.2657714720040537\n",
      "El porcentaje de insultos es del 26.57714720040537%\n"
     ]
    }
   ],
   "source": [
    "mean_values = training_data['Insult'].mean()\n",
    "print('El promedio de los datos es {}'.format(mean_values))\n",
    "insults = training_data['Insult'].value_counts()[1]\n",
    "total_tweets = training_data.shape[0]\n",
    "mean_of_insults = insults / total_tweets\n",
    "print('El promedio de los insultos es {}'.format(mean_values))\n",
    "insults_percent = mean_of_insults * 100\n",
    "print('El porcentaje de insultos es del {}%'.format(insults_percent))"
   ]
  },
  {
   "cell_type": "code",
   "execution_count": 9,
   "metadata": {},
   "outputs": [],
   "source": [
    "# CountVectorizer?"
   ]
  },
  {
   "cell_type": "code",
   "execution_count": 10,
   "metadata": {},
   "outputs": [],
   "source": [
    "count_vectorizer = CountVectorizer(analyzer='word', ngram_range=(1,3), stop_words='english', max_features=50000)\n",
    "count_vectorizer.fit(training_data['cleaned_comment'])\n",
    "\n",
    "X = count_vectorizer.transform(training_data['cleaned_comment'])\n",
    "y = training_data['Insult']"
   ]
  },
  {
   "cell_type": "code",
   "execution_count": 11,
   "metadata": {},
   "outputs": [],
   "source": [
    "def split_data(X, y, p=.75):\n",
    "    mask = np.array([bool(np.random.binomial(1, p)) for _ in range(X.shape[0])])\n",
    "    \n",
    "    X_train = X[mask]\n",
    "    y_train = y[mask]\n",
    "    X_validation = X[~mask]\n",
    "    y_validation = y[~mask]\n",
    "    \n",
    "    return X_train, y_train, X_validation, y_validation\n",
    "    \n",
    "    "
   ]
  },
  {
   "cell_type": "code",
   "execution_count": 12,
   "metadata": {},
   "outputs": [],
   "source": [
    "X_train, y_train, X_validation, y_validation = split_data(X, y)"
   ]
  },
  {
   "cell_type": "code",
   "execution_count": 13,
   "metadata": {},
   "outputs": [
    {
     "data": {
      "text/plain": [
       "(2951, 50000)"
      ]
     },
     "execution_count": 13,
     "metadata": {},
     "output_type": "execute_result"
    }
   ],
   "source": [
    "X_train.shape"
   ]
  },
  {
   "cell_type": "code",
   "execution_count": 14,
   "metadata": {},
   "outputs": [
    {
     "data": {
      "text/plain": [
       "LogisticRegression(C=1.0, class_weight=None, dual=False, fit_intercept=True,\n",
       "          intercept_scaling=1, max_iter=100, multi_class='ovr', n_jobs=1,\n",
       "          penalty='l2', random_state=None, solver='liblinear', tol=0.0001,\n",
       "          verbose=0, warm_start=False)"
      ]
     },
     "execution_count": 14,
     "metadata": {},
     "output_type": "execute_result"
    }
   ],
   "source": [
    "from sklearn.linear_model import LogisticRegression\n",
    "\n",
    "model = LogisticRegression()\n",
    "model.fit(X_train, y_train)"
   ]
  },
  {
   "cell_type": "code",
   "execution_count": 15,
   "metadata": {},
   "outputs": [
    {
     "name": "stdout",
     "output_type": "stream",
     "text": [
      "Validation score: 0.8273092369477911\n"
     ]
    }
   ],
   "source": [
    "from sklearn.metrics import accuracy_score\n",
    "\n",
    "predictions = model.predict(X_validation)\n",
    "validation_score = accuracy_score(y_validation, predictions)\n",
    "\n",
    "print('Validation score:', validation_score)"
   ]
  },
  {
   "cell_type": "code",
   "execution_count": 16,
   "metadata": {},
   "outputs": [],
   "source": [
    "from sklearn.feature_extraction.text import TfidfVectorizer\n",
    "from sklearn.svm import LinearSVC\n",
    "from sklearn.ensemble import RandomForestClassifier"
   ]
  },
  {
   "cell_type": "code",
   "execution_count": 17,
   "metadata": {},
   "outputs": [],
   "source": [
    "class PredictionPipeline:\n",
    "    \n",
    "    def __init__(self, ngram_range, vectorizer_class, model_class, training_data):\n",
    "        self.ngram_range=ngram_range\n",
    "        self.vectorizer_class=vectorizer_class\n",
    "        self.model_class=model_class\n",
    "        self.training_data=training_data\n",
    "        self.vectorizer = None\n",
    "        self.X = None\n",
    "        self.y = None\n",
    "        self.model = None\n",
    "        self.validation_score = None\n",
    "        \n",
    "    def run(self):\n",
    "        self._fit_vectorizer()\n",
    "        self._featurize_text()\n",
    "        self._split_train_and_validation_sets()\n",
    "        self._fit_model_on_training_data()\n",
    "        self._validate_model_on_validation_set()\n",
    "        \n",
    "        print(\n",
    "            \"\"\"\n",
    "            Vectorizer Class: {vectorizer_class}\\n\\\n",
    "            N-gram Range: {ngram_range}\\n\\\n",
    "            Model Class: {model_class}\\n\\\n",
    "            Validation Score: {validation_score}\n",
    "            \"\"\".format(\n",
    "\n",
    "            vectorizer_class=repr(self.vectorizer_class.__name__), \n",
    "            ngram_range=self.ngram_range, \n",
    "            model_class=repr(self.model_class.__name__), \n",
    "            validation_score=round(self.validation_score, 4)\n",
    "\n",
    "            )\n",
    "        )\n",
    "\n",
    "    def _fit_vectorizer(self):\n",
    "        self.vectorizer = vectorizer_class(analyzer='word', ngram_range=ngram_range, \n",
    "                                     stop_words='english', max_features=50000)\n",
    "        self.vectorizer.fit(self.training_data['cleaned_comment'])\n",
    "    \n",
    "    def _featurize_text(self):\n",
    "        self.X = self.vectorizer.transform(self.training_data['cleaned_comment'])\n",
    "        self.y = self.training_data['Insult']\n",
    "\n",
    "    def _split_train_and_validation_sets(self):\n",
    "        self.X_train, self.y_train, self.X_validation, self.y_validation = split_data(\n",
    "            self.X, self.y)\n",
    "\n",
    "    def _fit_model_on_training_data(self):\n",
    "        self.model = self.model_class()\n",
    "        self.model.fit(self.X_train, self.y_train)\n",
    "\n",
    "    def _validate_model_on_validation_set(self):\n",
    "        predictions = self.model.predict(self.X_validation)\n",
    "        self.validation_score = accuracy_score(self.y_validation, predictions)      "
   ]
  },
  {
   "cell_type": "code",
   "execution_count": 18,
   "metadata": {},
   "outputs": [
    {
     "name": "stdout",
     "output_type": "stream",
     "text": [
      "\n",
      "            Vectorizer Class: 'CountVectorizer'\n",
      "            N-gram Range: (1, 1)\n",
      "            Model Class: 'LogisticRegression'\n",
      "            Validation Score: 0.8258\n",
      "            \n",
      "\n",
      "            Vectorizer Class: 'CountVectorizer'\n",
      "            N-gram Range: (1, 1)\n",
      "            Model Class: 'LinearSVC'\n",
      "            Validation Score: 0.7976\n",
      "            \n",
      "\n",
      "            Vectorizer Class: 'CountVectorizer'\n",
      "            N-gram Range: (1, 1)\n",
      "            Model Class: 'RandomForestClassifier'\n",
      "            Validation Score: 0.826\n",
      "            \n",
      "\n",
      "            Vectorizer Class: 'TfidfVectorizer'\n",
      "            N-gram Range: (1, 1)\n",
      "            Model Class: 'LogisticRegression'\n",
      "            Validation Score: 0.7842\n",
      "            \n",
      "\n",
      "            Vectorizer Class: 'TfidfVectorizer'\n",
      "            N-gram Range: (1, 1)\n",
      "            Model Class: 'LinearSVC'\n",
      "            Validation Score: 0.8249\n",
      "            \n",
      "\n",
      "            Vectorizer Class: 'TfidfVectorizer'\n",
      "            N-gram Range: (1, 1)\n",
      "            Model Class: 'RandomForestClassifier'\n",
      "            Validation Score: 0.7699\n",
      "            \n",
      "\n",
      "            Vectorizer Class: 'CountVectorizer'\n",
      "            N-gram Range: (1, 2)\n",
      "            Model Class: 'LogisticRegression'\n",
      "            Validation Score: 0.8263\n",
      "            \n",
      "\n",
      "            Vectorizer Class: 'CountVectorizer'\n",
      "            N-gram Range: (1, 2)\n",
      "            Model Class: 'LinearSVC'\n",
      "            Validation Score: 0.7879\n",
      "            \n",
      "\n",
      "            Vectorizer Class: 'CountVectorizer'\n",
      "            N-gram Range: (1, 2)\n",
      "            Model Class: 'RandomForestClassifier'\n",
      "            Validation Score: 0.8092\n",
      "            \n",
      "\n",
      "            Vectorizer Class: 'TfidfVectorizer'\n",
      "            N-gram Range: (1, 2)\n",
      "            Model Class: 'LogisticRegression'\n",
      "            Validation Score: 0.7465\n",
      "            \n",
      "\n",
      "            Vectorizer Class: 'TfidfVectorizer'\n",
      "            N-gram Range: (1, 2)\n",
      "            Model Class: 'LinearSVC'\n",
      "            Validation Score: 0.8065\n",
      "            \n",
      "\n",
      "            Vectorizer Class: 'TfidfVectorizer'\n",
      "            N-gram Range: (1, 2)\n",
      "            Model Class: 'RandomForestClassifier'\n",
      "            Validation Score: 0.8002\n",
      "            \n",
      "\n",
      "            Vectorizer Class: 'CountVectorizer'\n",
      "            N-gram Range: (1, 3)\n",
      "            Model Class: 'LogisticRegression'\n",
      "            Validation Score: 0.8223\n",
      "            \n",
      "\n",
      "            Vectorizer Class: 'CountVectorizer'\n",
      "            N-gram Range: (1, 3)\n",
      "            Model Class: 'LinearSVC'\n",
      "            Validation Score: 0.8226\n",
      "            \n",
      "\n",
      "            Vectorizer Class: 'CountVectorizer'\n",
      "            N-gram Range: (1, 3)\n",
      "            Model Class: 'RandomForestClassifier'\n",
      "            Validation Score: 0.8189\n",
      "            \n",
      "\n",
      "            Vectorizer Class: 'TfidfVectorizer'\n",
      "            N-gram Range: (1, 3)\n",
      "            Model Class: 'LogisticRegression'\n",
      "            Validation Score: 0.7733\n",
      "            \n",
      "\n",
      "            Vectorizer Class: 'TfidfVectorizer'\n",
      "            N-gram Range: (1, 3)\n",
      "            Model Class: 'LinearSVC'\n",
      "            Validation Score: 0.8165\n",
      "            \n",
      "\n",
      "            Vectorizer Class: 'TfidfVectorizer'\n",
      "            N-gram Range: (1, 3)\n",
      "            Model Class: 'RandomForestClassifier'\n",
      "            Validation Score: 0.7655\n",
      "            \n",
      "\n",
      "            Vectorizer Class: 'CountVectorizer'\n",
      "            N-gram Range: (1, 4)\n",
      "            Model Class: 'LogisticRegression'\n",
      "            Validation Score: 0.8126\n",
      "            \n",
      "\n",
      "            Vectorizer Class: 'CountVectorizer'\n",
      "            N-gram Range: (1, 4)\n",
      "            Model Class: 'LinearSVC'\n",
      "            Validation Score: 0.8056\n",
      "            \n",
      "\n",
      "            Vectorizer Class: 'CountVectorizer'\n",
      "            N-gram Range: (1, 4)\n",
      "            Model Class: 'RandomForestClassifier'\n",
      "            Validation Score: 0.8038\n",
      "            \n",
      "\n",
      "            Vectorizer Class: 'TfidfVectorizer'\n",
      "            N-gram Range: (1, 4)\n",
      "            Model Class: 'LogisticRegression'\n",
      "            Validation Score: 0.7725\n",
      "            \n",
      "\n",
      "            Vectorizer Class: 'TfidfVectorizer'\n",
      "            N-gram Range: (1, 4)\n",
      "            Model Class: 'LinearSVC'\n",
      "            Validation Score: 0.8188\n",
      "            \n",
      "\n",
      "            Vectorizer Class: 'TfidfVectorizer'\n",
      "            N-gram Range: (1, 4)\n",
      "            Model Class: 'RandomForestClassifier'\n",
      "            Validation Score: 0.7924\n",
      "            \n"
     ]
    }
   ],
   "source": [
    "results = {}\n",
    "\n",
    "for ngram_range in [(1, 1), (1, 2), (1, 3), (1, 4)]:\n",
    "    for vectorizer_class in [CountVectorizer, TfidfVectorizer]:\n",
    "        for model_class in [LogisticRegression, LinearSVC, RandomForestClassifier]:\n",
    "            \n",
    "            # run prediction pipeline\n",
    "            prediction_pipeline = PredictionPipeline(\n",
    "                ngram_range=ngram_range,\n",
    "                vectorizer_class=vectorizer_class,\n",
    "                model_class=model_class,\n",
    "                training_data=training_data\n",
    "            )\n",
    "            \n",
    "            prediction_pipeline.run()\n",
    "            \n",
    "            # add hyper-parameters to `results` dictionary\n",
    "            results[str(prediction_pipeline.validation_score)] = {\n",
    "                    'vectorizer_class': prediction_pipeline.vectorizer_class,\n",
    "                    'ngram_range': prediction_pipeline.ngram_range,\n",
    "                    'model_class': prediction_pipeline.model_class\n",
    "            }"
   ]
  },
  {
   "cell_type": "code",
   "execution_count": 19,
   "metadata": {},
   "outputs": [
    {
     "name": "stdout",
     "output_type": "stream",
     "text": [
      "Score: 0.8263157894736842\n",
      "Parameters: {'vectorizer_class': <class 'sklearn.feature_extraction.text.CountVectorizer'>, 'model_class': <class 'sklearn.linear_model.logistic.LogisticRegression'>, 'ngram_range': (1, 2)}\n",
      "\n",
      "Score: 0.8259958071278826\n",
      "Parameters: {'vectorizer_class': <class 'sklearn.feature_extraction.text.CountVectorizer'>, 'model_class': <class 'sklearn.ensemble.forest.RandomForestClassifier'>, 'ngram_range': (1, 1)}\n",
      "\n",
      "Score: 0.8258196721311475\n",
      "Parameters: {'vectorizer_class': <class 'sklearn.feature_extraction.text.CountVectorizer'>, 'model_class': <class 'sklearn.linear_model.logistic.LogisticRegression'>, 'ngram_range': (1, 1)}\n",
      "\n"
     ]
    }
   ],
   "source": [
    "top_3_scores = sorted(results.keys(), reverse=True)[:3]\n",
    "\n",
    "for score in top_3_scores:\n",
    "    print('Score: {score}\\nParameters: {parameters}\\n'.format(\n",
    "        score=score, parameters=results[score]))"
   ]
  },
  {
   "cell_type": "code",
   "execution_count": 20,
   "metadata": {},
   "outputs": [],
   "source": [
    "top_score_key = top_3_scores[0]"
   ]
  },
  {
   "cell_type": "code",
   "execution_count": 21,
   "metadata": {},
   "outputs": [
    {
     "data": {
      "text/plain": [
       "LogisticRegression(C=1.0, class_weight=None, dual=False, fit_intercept=True,\n",
       "          intercept_scaling=1, max_iter=100, multi_class='ovr', n_jobs=1,\n",
       "          penalty='l2', random_state=None, solver='liblinear', tol=0.0001,\n",
       "          verbose=0, warm_start=False)"
      ]
     },
     "execution_count": 21,
     "metadata": {},
     "output_type": "execute_result"
    }
   ],
   "source": [
    "vectorizer_class = results[top_score_key]['vectorizer_class']\n",
    "ngram_range = results[top_score_key]['ngram_range']\n",
    "model_class = results[top_score_key]['model_class']\n",
    "\n",
    "# fit vectorizer\n",
    "vectorizer = vectorizer_class(analyzer='word', ngram_range=ngram_range, stop_words='english', max_features=50000)\n",
    "vectorizer.fit(training_data['cleaned_comment'])\n",
    "\n",
    "# transform text\n",
    "X = vectorizer.transform(training_data['cleaned_comment'])\n",
    "y = training_data['Insult']\n",
    "\n",
    "# fit model on training data\n",
    "model = model_class()\n",
    "model.fit(X, y)"
   ]
  },
  {
   "cell_type": "code",
   "execution_count": null,
   "metadata": {},
   "outputs": [],
   "source": [
    "while True:\n",
    "    input_string = input('Please enter a string: ')\n",
    "    input_string = clean_text(input_string)\n",
    "    x_test = vectorizer.transform([input_string])\n",
    "    \n",
    "    prediction = model.predict(x_test)[0]\n",
    "    print('Insult?: {}'.format( bool(prediction)))"
   ]
  },
  {
   "cell_type": "code",
   "execution_count": null,
   "metadata": {},
   "outputs": [],
   "source": []
  }
 ],
 "metadata": {
  "kernelspec": {
   "display_name": "Python 3",
   "language": "python",
   "name": "python3"
  },
  "language_info": {
   "codemirror_mode": {
    "name": "ipython",
    "version": 3
   },
   "file_extension": ".py",
   "mimetype": "text/x-python",
   "name": "python",
   "nbconvert_exporter": "python",
   "pygments_lexer": "ipython3",
   "version": "3.5.3"
  }
 },
 "nbformat": 4,
 "nbformat_minor": 2
}
