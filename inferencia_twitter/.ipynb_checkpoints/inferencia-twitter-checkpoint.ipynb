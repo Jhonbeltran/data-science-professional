{
 "cells": [
  {
   "cell_type": "markdown",
   "metadata": {},
   "source": [
    "# Moviendo Inferencia TW a Producción"
   ]
  },
  {
   "cell_type": "markdown",
   "metadata": {},
   "source": [
    "# Formular la pregunta"
   ]
  },
  {
   "cell_type": "markdown",
   "metadata": {},
   "source": [
    "### \"Cuál es la probabilidad que un tweet que origina dentro de los coordinados geográficos (-78.31, 0.44, -70.71, 11.39) contiene al menos una ocurrencia de la palabra 'yo' con cualquier composición de acentos y letras minúsculas y mayúsculas.\""
   ]
  },
  {
   "cell_type": "markdown",
   "metadata": {},
   "source": [
    "![](http://mediossociales.es/wp-content/uploads/2012/01/twitter_futbol12.jpg)"
   ]
  },
  {
   "cell_type": "markdown",
   "metadata": {},
   "source": [
    "# Recopilar datos"
   ]
  },
  {
   "cell_type": "code",
   "execution_count": 3,
   "metadata": {},
   "outputs": [
    {
     "name": "stdout",
     "output_type": "stream",
     "text": [
      "The libraries was imported!\n"
     ]
    }
   ],
   "source": [
    "import os\n",
    "\n",
    "import tweepy\n",
    "from tweepy import Stream\n",
    "\n",
    "from stream_listener import FiniteStreamListener\n",
    "print('The libraries was imported!')\n"
   ]
  },
  {
   "cell_type": "markdown",
   "metadata": {},
   "source": [
    "### Cargar credenciales"
   ]
  },
  {
   "cell_type": "code",
   "execution_count": 5,
   "metadata": {},
   "outputs": [],
   "source": [
    "CONSUMER_KEY = os.getenv('TWITTER_CONSUMER_KEY_DATA_SCIENCE')\n",
    "CONSUMER_SECRET = os.getenv('TWITTER_CONSUMER_SECRET_DATA_SCIENCE')\n",
    "ACCESS_TOKEN = os.getenv('TWITTER_ACCESS_TOKEN_DATA_SCIENCE')\n",
    "ACCESS_TOKEN_SECRET = os.getenv('TWITTER_ACCESS_TOKEN_SECRET_DATA_SCIENCE')"
   ]
  },
  {
   "cell_type": "code",
   "execution_count": 7,
   "metadata": {},
   "outputs": [],
   "source": [
    "auth = tweepy.OAuthHandler(CONSUMER_KEY, CONSUMER_SECRET)\n",
    "auth.set_access_token(ACCESS_TOKEN, ACCESS_TOKEN_SECRET)\n",
    "api = tweepy.API(auth)"
   ]
  },
  {
   "cell_type": "markdown",
   "metadata": {},
   "source": [
    "### Establecer una conexión al API de Twitter"
   ]
  },
  {
   "cell_type": "code",
   "execution_count": 5,
   "metadata": {
    "collapsed": true
   },
   "outputs": [],
   "source": [
    "finite_stream_listener = FiniteStreamListener(number_of_tweets=NUMBER_OF_TWEETS)\n",
    "streaming_api = Stream(auth=auth, listener=finite_stream_listener) "
   ]
  },
  {
   "cell_type": "markdown",
   "metadata": {},
   "source": [
    "### Establecer ubicación (COL)"
   ]
  },
  {
   "cell_type": "code",
   "execution_count": 6,
   "metadata": {},
   "outputs": [],
   "source": [
    "COLOMBIA_GEO_LOCATION_BOUNDING_BOX = [-78.31, 0.44, -70.71, 11.39]\n",
    "NUMBER_OF_TWEETS = 300"
   ]
  },
  {
   "cell_type": "markdown",
   "metadata": {},
   "source": [
    "### Obtener Tweets del firehouse"
   ]
  },
  {
   "cell_type": "code",
   "execution_count": 6,
   "metadata": {
    "collapsed": true
   },
   "outputs": [],
   "source": [
    "streaming_api.filter(locations=COLOMBIA_GEO_LOCATION_BOUNDING_BOX)"
   ]
  },
  {
   "cell_type": "markdown",
   "metadata": {},
   "source": [
    "# Limpiar datos"
   ]
  },
  {
   "cell_type": "code",
   "execution_count": 7,
   "metadata": {
    "collapsed": true
   },
   "outputs": [],
   "source": [
    "from unidecode import unidecode"
   ]
  },
  {
   "cell_type": "markdown",
   "metadata": {},
   "source": [
    "### Definir funciones de limpieza"
   ]
  },
  {
   "cell_type": "code",
   "execution_count": 8,
   "metadata": {
    "collapsed": true
   },
   "outputs": [],
   "source": [
    "def make_lowercase(tweet):\n",
    "    return tweet.lower()\n",
    "\n",
    "\n",
    "def remove_diacritics(tweet):\n",
    "    return unidecode(tweet)\n",
    "\n",
    "\n",
    "def remove_non_alpha_characters(tweet):\n",
    "    return ''.join(character for character in tweet if character.isalpha() or character == ' ')"
   ]
  },
  {
   "cell_type": "markdown",
   "metadata": {},
   "source": [
    "### Aplicar las funciones"
   ]
  },
  {
   "cell_type": "code",
   "execution_count": 9,
   "metadata": {},
   "outputs": [
    {
     "data": {
      "text/plain": [
       "300"
      ]
     },
     "execution_count": 9,
     "metadata": {},
     "output_type": "execute_result"
    }
   ],
   "source": [
    "len(finite_stream_listener.tweets)"
   ]
  },
  {
   "cell_type": "code",
   "execution_count": 10,
   "metadata": {},
   "outputs": [
    {
     "data": {
      "text/plain": [
       "['No me dejes desistir🙏',\n",
       " '@Viiiiiiiiiiih Parabéns te Desejo toda Felicidade do Mundo que deus te ilumine cada vez mais',\n",
       " 'Leaving to Citroën to ruin its o my unique weird Citroën by making it more... normal. https://t.co/QwW3N4G4R6',\n",
       " 'Somos especialistas en chotear las famosas marchas. Alguien tiene que explicar en donde dañamos lo de Odebrecht.',\n",
       " '@eusgabs essa caralha num sabe dar uma seta/anda seu porra são as frases que mais uso ksakssak',\n",
       " 'FIELES SEGUIDORES, PARA LOS QUE NO SABEN , MI PRIMER PASO MUSICAL EN GRANDE, FUE CUANDO ERA… https://t.co/ajk25x2VWv',\n",
       " '@RamonGguevara_AD AGRADECE AL PUEBLO DE MÉRIDA LOS VOTOS INCENDIANDO BUSES YUTONG QUE LOS TRANSPORTA Y RESPETA LA 3RA EDAD @TrafficPatriaMe',\n",
       " 'Al enemigo lo que más le molesta es el brillo que Dios puso en ti... Tú brillo fastidia a los que viven en la oscuridad. \\n¡Feliz día!',\n",
       " '#Halloween El 31 de Octubre REGRESA *DRACULA* DE BRAM STOCKER a Bogotá, encuéntralo en Charlot Teatro… https://t.co/yRCkp5eoZb',\n",
       " 'Dejan sin efecto la elección de Guanipa como gobernador del Zulia - Vía @elestimulo - https://t.co/jsUo4gzGWs https://t.co/TbO2gzYvub',\n",
       " '¿Algún pronunciamiento del @GeneralNietoR o @PoliciaColombia @mindefensa sobre el uso excesivo de la fuerza a mujeres y niños indígenas?',\n",
       " 'Hoy en el #META el #SENAResponde sobre la vigencia 2017 https://t.co/IxoBI8UflH',\n",
       " '@MilitantDigital @pacoram64 @Lenin @marialevicuna @emangasm @LeninistasEC @MaximAccion35AP @VamosLenin… https://t.co/cdwmsbaZTN',\n",
       " 'Érase una vez en #Turquia #Tbt #travel https://t.co/4ZLeyifcmy',\n",
       " '@NicolasMaduro MIS HIJOS TIENEN DERECHO A COMERRRRRRRRRRRRRRRRRRRRRRRRRRRRRRRRRRRRRRRRRRRRR',\n",
       " 'Metro Medellín comparte con Entes Gestores SETP, características de la asistencia técnica a @TranscaribeSITM… https://t.co/leJA7c3IZt',\n",
       " 'Ya olvide tu nombre, solo recuerdo que eres un excelente actor.',\n",
       " 'Caracas NO tiene Alcalde y esa es la verdad, un inepto como Jorge Rodríguez no merece ser llamado así. #26Oct',\n",
       " 'Esas personas que tratan mal a quien los atienden ¿quién hijueputas se creen?',\n",
       " 'Exclusas de Miraflores 🌿  \\n#Photoshoot #PanamaTravel #CityTour #PanamaCanal #Miraflores en… https://t.co/bT6q7qvGqV',\n",
       " '\"Sí enseñamos a los alumnos de hoy como enseñábamos ayer les estamos robado el futuro\" - J. Dewey\\n¡¡Qué gran verdad!!',\n",
       " '@andresmania Gracias Andres Muy amable de su parte',\n",
       " 'Las #FeriasDelCampoSoberano fortalecen el desarrollo de la economía local y la participación de pequeños productores https://t.co/mubXdu0a9g',\n",
       " 'https://t.co/3Pf8vIE1Y4',\n",
       " 'Hola, estoy obsesionada con mi cabello, bye https://t.co/TMRXwqqOtp',\n",
       " '@ThaniaVegaP que se declare de las farc y lo nombran hasta senador... https://t.co/UNJMOMPqXk',\n",
       " 'Hoy no es un día normal.. hoy juegaaaa Junioooooor 😍 VamosQueVamos @JuniorClubSA 🔴⚪️\\U0001f988🔴⚪️ #CopaSudamericana',\n",
       " '@JOVENBIX19 videoxx gay chapinero calle61A no13a19 cel 3134853600 nudismo total fin de semana,este proximo 3 de niv… https://t.co/7l2Sa6eBRI',\n",
       " '@exoputs unnie eu tava lendo suas histórias de ontem e são mto boas hj vc vai contar mais né??',\n",
       " '@MilitantDigital @pacoram64 @Lenin @marialevicuna @emangasm @LeninistasEC @MaximAccion35AP @VamosLenin… https://t.co/EvSPnKWoLR',\n",
       " 'Vive sin rencores pero con memoria🎶',\n",
       " 'Siganme los buenos!!!!',\n",
       " \"@WorldBoxingOrg @steveucnlive @terryflanagan5 Linares fight wasn't signed?\",\n",
       " '@laidygomezf @VPITV #26Oct @laidygomezf le dice a sus detractores que gobernará para todos',\n",
       " 'No hay nada más rico que probar esa boquita.',\n",
       " '❤️ https://t.co/sYZDjF5FGV',\n",
       " 'Banda criminal ESMAD masacra campesinos, ataca brutalmente a los indígenas y viola derechos esenciales de la ciudadanía #CatatumboResiste',\n",
       " 'Se suspende audiencia contra Ventura Ceballos porque renunció a la defensa pública. Se programa audiencia para el 23 de noviembre a las 9am',\n",
       " 'LES PRESENTO A MI CRUSH. https://t.co/I4siOkd6tv',\n",
       " 'I LOVEME SOME BALDSOO',\n",
       " 'Los sueños se cumplen cuando se los entregamos a Dios.',\n",
       " 'Así vivimos la segunda versión de la Semana  de la Psicología, Ciencia e Innovación 2017 #Educación https://t.co/WtPvRQ4pN6',\n",
       " '@RicardoLombanaG HARÉ MIS RESPONSABLES ESFUERZOS COMO CIUDADANO PARA LOGRAR DE QUE SEAS PRESIDENTE DE PANAMÁ. TENGO… https://t.co/GRoCjF7ooL',\n",
       " '💖 CONMIGO ESTÁS 💖\\n.\\nY como dice la.canción:\\nhttps://t.co/2sVS25hnzX\\n.\\n#Repost @OscarCampo_… https://t.co/V2DAgSzJOc',\n",
       " '♪♫♫ Imposible olvidar tu talismán...\\nIrresistible remar contra tu atracción ♪♫♫♪',\n",
       " '@lukeborgess Bella♥♥♥♥♥♥♥♥♥♥♥♥♥♥♥♥',\n",
       " '@MBDRCN https://t.co/BchYBUaJbe',\n",
       " '@cliffkirby lo que queremos es un LÍDER como TOLEDO de PERU que llamo a los MILITARES e inclusive llamo a la ABSTEN… https://t.co/SsN9RZHn2L',\n",
       " 'La nacionalización de Franco Armani no es un tema nuevo. De esto ya habíamos hablado hace tiempo en @redmastv.… https://t.co/RpYqm9LWOI',\n",
       " 'Qué fueron las cruzadas cristianas? https://t.co/LzBlNXvCtD #Dios #Venezuela #USA #Colombia #Brasil #Panama… https://t.co/oDbMxeqLF5',\n",
       " 'eu vim pra reza',\n",
       " 'El trabajo conjunto con #RAPCaribe garantiza una exitosa planificación rural agropecuaria de la región… https://t.co/I3qRLpZkbJ',\n",
       " '@InfoSinBandera #AlóJusticia @CristinaKirchner sabe q Menos hablas y Alegas en Audiencia  Tribunales menos tienes d… https://t.co/n0jEBDyTLt',\n",
       " '@gestionperfecta @FreddyBernal el CLAP de Sicarigua tiene proyecto Agroproductivo para impulsar la produccion de rubros esenciales',\n",
       " 'La mejor estrategia de retención la tiene @ClaroTeAyuda Cuando llamas a pedir cancelación te dejan en la línea hasta q te aburres y cuelgas',\n",
       " 'Solicita nuestra propuesta de servicio vía: \\nCorreo:evenclassc.a@gmail.com \\n#Festejo #EventosSociales,  #15Años,… https://t.co/PWnIM1X99G',\n",
       " 'Y sigo diciendo, nadie es capaz de valorar lo qué haces por ellos.',\n",
       " '@JERobledo @ClaudiaLopez @sergio_fajardo @JuanSLopezM @Leonidasgomezg @DanielSamperO https://t.co/P8SvnXP5AJ',\n",
       " '#yo https://t.co/h4KhvlBtJi',\n",
       " '#Entérate➡️Nuestras cuadrillas🍃activadas en cada rincón del municipio llevaron a cabo desmalezamiento en Los Olivos… https://t.co/2cZbrrcyNi',\n",
       " '#EnDirecto🔴 | Ministro @pinfantea: el país cuenta con 310 entrenadores que van a pasar por todos los módulos de for… https://t.co/Cow94Dtfl3',\n",
       " 'Por que no una rica ensalada crispy .. en @BistroColado \\nEsta espectacular ensalada es con pollo… https://t.co/H1XWzwggXc',\n",
       " 'Seguimos sorprendiendo y regalando momentos felices !\\nDesayunos Sorpresa Sorprende con Amor ❤️\\nSan Gil. Santander https://t.co/JW0Khgo9yH',\n",
       " '@LaBomba_Televen yoo quierooo serrr la animadoraaaaaa no me cansare de tuitear por lograr lo que quieroooooo amen #BombaDeEscandalo',\n",
       " 'Se gano el premio al más imbécil.',\n",
       " 'Esas son las vainas q me arrechan del gobierno...  https://t.co/rCwOqCebQw',\n",
       " '#AEstaHora en Coliseo de comuna 16 #CaliCo recibimos de @AlcaldiaDeCali parque automotor, elementos para sensibiliz… https://t.co/vJzuIzqhWk',\n",
       " '@JAlejandro_06 @LisbethRosado1 @SecObrasVpar Inspeccionamos cada detalle de esta ejecución que sin duda será un atr… https://t.co/amrUkr4iO6',\n",
       " '@pabmgo Nooooo, yo soy un amor con mis clientes pero hay gente que ne verdad de pasa 😤😤😤 y esa señora se paso. \\n\"1.2.3 inhala y exhala\"...',\n",
       " 'Juez Primera Penal se acoge al término para calificar el sumario en caso del exdirector de la DGI y otros cinco imputados.',\n",
       " '#AlóJusticia @CristinaKirchner sabe q Menos hablas y Alegas en Audiencia  Tribunales menos tienes de demostrar pa probar en ámbito jurídico.',\n",
       " '• Estar sentada sin hacer nada mirando de lejos y estar relajada\\xa0• en El Patio de Lile https://t.co/GBpzpxP8m4',\n",
       " 'El clima de hoy en Medellín es digno de una cobija caliente, un chocolate recién hervido y una buena película. Pero está el trabajo!',\n",
       " '@hermanntertsch Cuestión de “Accountability\". Una palabra clara y precisa para ocasiones como ésta.',\n",
       " 'There is a correlation between corruption &amp; poverty. Corruption is inhibiting development. -Mauricio Ramos, CEO of @millicom #CADF17',\n",
       " 'ahora andas poniéndole veladoras al equipo que te mando ala Promoción ? https://t.co/yMHHxSxp46 JAJAJAAJAJAJAJAJAAJ',\n",
       " 'ese video de paulina vega me arreglo el diaa. 😍',\n",
       " 'Tengo mucho sueño acumulado 😴😴😴',\n",
       " 'Si lo dice el Presidente del Senado que provocó la salida de .@PirryTv de RCN por líos de tierra... debe ser cierto https://t.co/pO0QqEzvqm',\n",
       " 'https://t.co/n10HGjA6xB',\n",
       " 'Yo si odio enfermarme',\n",
       " '@oscarcuadrosq Hola Oscar, por favor a través DM cuéntanos detalles de lo que ocurrió. https://t.co/PBc1vb9RZX \\nEstamos atentos.',\n",
       " 'Buenos días bebés ☀️💕\\U0001f924',\n",
       " 'Invitados a conocer al ganador del #PremioCuentoGGM 2017. Noviembre 1 a las 11 a.m en @miteatrocolon… https://t.co/Ooe6SNaMmQ',\n",
       " '@cliffkirby lo que necesitamos ►Toledo afirma que Perú es una dictadura y pide al Ejército que abandone a Fujimori https://t.co/EEDD1W4Udn',\n",
       " '#26Oct Cerrada vía Charallave - Ocumare por enfrentamiento, delincuentes activaron 2 granadas contra OSE https://t.co/2OFGcVRLCK - @CESGUAR',\n",
       " '@otrieobga comparte el día de hoy su experiencia y servicios en el Comité Científico de Ingenierías de la… https://t.co/a17c1pyj6u',\n",
       " '@JuanRealDC que se declare de las farc y lo nombran hasta senador...  @_El_Patriota @Ejercito_Div7 https://t.co/aDf2Q4PQH3',\n",
       " '@Jair_LDU @DavilaAurelio @dannyfabia si es que fuese así, mas vergonzoso es negar los genes porque te parieron en otro suelo JAJAJAJA',\n",
       " '@RevistaSemana @OIZuluaga Honorablemente Corrupta, y tiene el descaro de sacar pecho cuando se archiva su caso por… https://t.co/hn4iat13vv',\n",
       " 'Le falta playa https://t.co/GHM0CIN11J',\n",
       " '@s0r3k Duele, y pareciera que la única cura esta en comprar un pasaje a cualquier fucking lado que no sea este.',\n",
       " '@karymelozano hola  kary q mala  en volver a  empezar y el manantial, tambien  t veo en el talisman besos y bendiciones',\n",
       " 'Tengo como 100 gb en archivos de trabajos y no encuentro nada :c',\n",
       " '#CaféFutbolred @futbolred @PajaritoDeIvan no nacionalizar y convocar a Armani,  están pintados los que no creen en este país !!!',\n",
       " 'El perro marica de mi abuela se orino y yo de buena gente me puse a limpiar, y por marica eche limpido y me cague u… https://t.co/firXUBJSie',\n",
       " '#CNECorrupciónElectoral @CNE_COLOMBIA la incompetencia y la corrupción en un solo lugar el paraíso de las ratas empezando por uds mismos...',\n",
       " 'A @LojaReversa já é minha preferida! nunca comprei mas só de olhar as coisinhas tô apaixxxx \\U0001f5a4',\n",
       " '@mrboxingguru @steveucnlive Karma... https://t.co/QoJzte62L3',\n",
       " '@sahowardt, Viceministra de Turismo dicta conferencia sobre diversidad en el XI Encuentro de Turismo de Naturaleza… https://t.co/6xHJXfrSjk',\n",
       " '#NoticiaUN Modelo determina costos de prevención en salud ocupacional https://t.co/7W14ggiCcI @Arq_unalmed https://t.co/QO4biQv5OS',\n",
       " 'Club Rotario de Bogotá, en su bingo anual en favor de las comunidades con  alto riesgo de… https://t.co/FnHx2klDo7',\n",
       " '@fabri_callejero @SecardenYT jajajaja, creo que no has jugado PES. Antes es un poco fastidioso que defensas lentos… https://t.co/feNpjjR2ez',\n",
       " '¡Un nuevo servicio llega a Surtiplaza!\\nDisfruta en Gelato Nostro Ibagué del auténtico sabor Italiano con unos preci… https://t.co/xw7AZ6FICq',\n",
       " '#AEstaHora damos inicio jornada de atención y orientación a ciudadanos Venezolanos sobre situación migratoria… https://t.co/p1uYxaK53Z',\n",
       " 'Desde #Ibague, estudiantes siguen comprometidos con la Semana #ContraLosMosquitos y promueven con murales algunas a… https://t.co/hqak4L7iYi',\n",
       " '¡hoy! Evento de Cuentería - gratis :) @Udenar @UdenarDigital #halloween #Cuentos #Pasto #felizJueves https://t.co/MNU0CBia3n',\n",
       " 'Anoche estuvimos en el GAMING MARKET COLOMBIA,  con nuestra banda de Jazz Manouche. No busques… https://t.co/BLcDcbCrQ8',\n",
       " '“The more you say no, and loudly, the less they will ask” #MauricioRamos #OnCorruption and #privatesector @SeaIF',\n",
       " '@ReporteYa @laidygomezf @VPITV Nos defraudaron',\n",
       " 'Jajajaj jjaja en Radio Munera https://t.co/OcUGliX2J9',\n",
       " 'ya bañé a los tres perros y los seque a los tres, soy es yo en 4k',\n",
       " 'Convocatoria Formación SENA en el municipio de Vélez-Santander y aledaños... https://t.co/4V2xv0skvP',\n",
       " 'La Freskola aún se vende en Villavicencio @WRadioColombia :)',\n",
       " 'No nací para intentarlo, nací para lograrlo. 💪',\n",
       " '#HalloFriday\\nUna noche para comenzar el #HalloweenLuxury cómo se debe \\nLa mejor fiesta urbana de… https://t.co/mFssIhx6KU',\n",
       " '😣😣😂 https://t.co/vc8XzJ6mW6',\n",
       " 'Mi profesor de 5to año que me envió nudes hizo un taller en el colegio donde estudie llamado \"Me envió nudes y ahor… https://t.co/Gr78UVXVpR',\n",
       " 'Enrique Iglesias só tem hino',\n",
       " 'es demasiado aburrido no estar a tu lado',\n",
       " 'Es genial ver el uso de mis productos @SILAlexanderArz en la emisión de @City_tv en uno de mis clientes en #Pontevedra #Spa116 #LosDelBarrio',\n",
       " '@RenanFontalvo Excelente lectura',\n",
       " 'Tripneustes ventricosus o erizo blanco. Le \"gusta\" camuflarse con el fondo. Herbívoros importante en los ecosistema… https://t.co/wbAB3QUOVI',\n",
       " 'Aprende a descansar, no ha renunciar.',\n",
       " '\"Solicité una evaluación de distritos educativos, queremos a los mejores profesionales en el equipo\" @fanderfalconi… https://t.co/iDbPbKCmJB',\n",
       " 'faltan dos días y aún estoy sin saber que hacer 😭😭😭😭',\n",
       " 'Que ganas de cocheros :(.',\n",
       " 'Yo soy un imbécil que no aprende de los errores del pasado, por eso me cogen de marica. https://t.co/X6xqcmaU83',\n",
       " '@LaBomba_Televen #BombaDeEscandalo LOSSS MEJOREEESS YOO QUIEROOO SER LA GANADORAA PARTICIPANDO DESDE SIEMPREEEEEE #BombaDeEscandalo',\n",
       " 'Gracias @IDTBogota @EnriquePenalosa  @JoseDuarteG seguimos comprometidos en la construcción del destino turístico q… https://t.co/LhReyiQSup',\n",
       " 'AYUDAAAAAAAAAAAAAAAAAA',\n",
       " 'Conferencia sobre ética judicial en el @consejodeestado \\n\\nhttps://t.co/9VjAbc7i7p',\n",
       " '¿Hola?\\n#JuevesDeGanarSeguidores',\n",
       " '💃🎉 https://t.co/Df27DPT1vc',\n",
       " '#26Oct A pesar de \"autoexclusión\", en este momento varios dirigentes de AD celebrando por esta vía la juramentación de Laidy Gómez. @AAAD25',\n",
       " '@LinaVegaAbad @ElGallinazo @PGN_PANAMA Pero lo peor es que el MP no cumple las garantías y el debido proceso',\n",
       " 'Próximamente @TelevenTV transmitirá \"La Trepadora\" cuyo tema central \"Solamente Tú\" es interpretado por mi representado @RommelrodrigueN DTB',\n",
       " '#PorTiSomosSeniat , somos fuerza trabajadora al servicio del Pueblo. #NadaNosDetiene @SeniatRNO https://t.co/ipsLCtnuBp',\n",
       " '@DanielaMejiaT jajaja ño, estoy ahorrando para nuestro matrimonio 😍',\n",
       " '🌟🌟ENTREGA INMEDIATA 🌟🌟\\nLlegaron  18 meses 24 meses talla 2 talla 3 talla 4 talla 6 \\nLinda… https://t.co/diyhOYzmx9',\n",
       " 'Estos son recuerdo cuando esté par socios decidieron conocer el país de @kperezleon \\nBastante q lo disfrutaron, yo… https://t.co/IR0TJawzBR',\n",
       " \"u ain't enough 4 me, 2 much 4 u :*\",\n",
       " 'Cuando le digo a mi mami que la amo pero esta echando chisme por teléfono con mis tías y me ignora.:( https://t.co/bKkbq9a3M7',\n",
       " '@CARLOSFMEJIA que se declare de las farc y lo nombran hasta senador... @COMANDANTE_EJC  @GeneralBarrero https://t.co/LbBN4weXOM',\n",
       " 'El próximo 1 de noviembre @mincultura anunciará el ganador del #PremioCuentoGGM. 11 a.m. en @miteatrocolon… https://t.co/ECk5xGL1lp',\n",
       " 'Mi reconocimiento a #AntioquiaSostenible por su trabajo en Oriente Antioqueño en su visión de Sostenibilidad conect… https://t.co/XqM6yuvPGq',\n",
       " '@alejandraq911 Obvioo',\n",
       " 'tu lo que quiere es que te coma el tigre',\n",
       " 'Igual pasa en Nueva Gorgona. Todos los fines de semana y @GNF_pa no hace nada pero el recibo de luz si llega a tiem… https://t.co/kPD5yeEOIy',\n",
       " 'nada como un #sexy #culito para alegrarte el día !!! MG Y RT si quieres con migo !! 0939945273… https://t.co/vKT24g6TMz',\n",
       " 'Feliz cumpleaños ídolo @LD31Oficial. 🔵🔵⚪️⚪️ https://t.co/Doo1B0cEN0',\n",
       " 'Uno de los privilegios de Alquilar un Apto cerca a la bahía , es gozar del pasaje peatonal para… https://t.co/SDTFm5RkX3',\n",
       " 'Grande Martín... Oigan oigan!!!  bueno pues..👌👌 en Guatapuri Plaza https://t.co/6WIxLJqQFQ',\n",
       " 'HOY ES DIA DE CAZUELAS HOY ES 2X1 2X1 😋😋😋😋 sólo en #elfarodemaradentro #Aprovecha hoy nuestra… https://t.co/LIW1zxxRVe',\n",
       " 'Corte Suprema ordenó recaptura del exsenador Óscar Suárez por enriquecimiento ilícito https://t.co/6fPEyjEP9h #LAFM https://t.co/NFgo1t8GJ7',\n",
       " '@ANLA_Col sabe: proyecto #SotoNorte de @Minesa_Col está parcialmente en zona restauración; otro motivo para negar licencia. @mcc_conciencia',\n",
       " 'Pues si estás conmigo.. Ya no hará falta nada🎵',\n",
       " 'No sé cuál es el afán de ciertos odontólogos en llenar los dientes al paciente con resina cuando se le pueden brindar otras opciones de tto😡',\n",
       " '@gestionperfecta @TayloRodriguez_ tenemos proyecto de granja integral para la EPSDC Robert Serra del Mcpio Torres',\n",
       " '@RemateRavHipico ponle otro al cubita a 95k',\n",
       " 'En el auditorio del Colegio COEDUMAG de #SantaMarta se dio inicio al #SeminarioRegionalAntidopaje que busca promove… https://t.co/cU2grt99VN',\n",
       " 'Cuando pido empanadas y llegan frías https://t.co/aZTOJOETKD',\n",
       " 'Si tienen problemas, piensen en Puigdemont, si Cataluña se independiza queda en la quiebra y si no lo hace, él va a prisión por 30 años min.',\n",
       " 'Tendencias que nos roban el corazón, morrales Beker la última moda! #intagram #modafemenina… https://t.co/LktyxY6jOj',\n",
       " 'Acho que vou fazer outro make Halloween pq sou dessas',\n",
       " 'Oye loko del atico rafik, porque no sigues jodiendo o la conciencia t hace ver la realidad kmo dejaste el País q cada día sale mas PUS CDTM.',\n",
       " '@controlfisico @COBOSFRANCOinc @Concejo_Villavo https://t.co/NkFMSb4CJO',\n",
       " 'Aprende a descansar, no a renunciar.',\n",
       " 'Muy pronto me sacaré la espinita 👈🏻',\n",
       " 'https://t.co/E8JdecELyk',\n",
       " '@LaBomba_Televen #BombaDeEscandalo yooo quierooo ser la ganadoraa me ganare eseee ´´dia de fama´´ MUEROO POR ESTAR CON USTEDES',\n",
       " 'Atentos Tunja 2 nov y Bogotá 3 nov @DoctorKrapula junto a invitados de lujo @txarango @DONTETTO @SomosIzquierdo imp… https://t.co/tCy65fszgO',\n",
       " '@yebkira1992 @DavilaAurelio @dannyfabia JAJAJAJAJAJA No demuestren tanto, que sin altura y horario sienten que pier… https://t.co/ncKsgOp1VX',\n",
       " 'Ojalá la universidad quedara al frente de donde vivo',\n",
       " 'Alguien que me de una buena definicion de Persona Antisocial?',\n",
       " 'SI QUIEREN ME PUEDEN SEGUIR EN @instagram COMO PAULAMACIAS28',\n",
       " 'Vacatiooonsssssss 👌🏻',\n",
       " 'Ella está bien, solo le hace falta la ortodoncia, rinoplastia, la lipo y ya.',\n",
       " 'Y esta cefalea que me acompaña desde que desperté será que no se piensa ir ? 🤕',\n",
       " '@8RonaldQuintero @LuchyB @Schonen_Blauen Ronald lleva a tu niña a #OrsoHeladeria, te mueres de la emoción y ella más',\n",
       " '#CADF2017 https://t.co/VD16QD5js8',\n",
       " 'Hace poco más de 7 años vendí la mitad de mí, por eso Cielo no me lleva a plenitud, pero algo tenía que hacer por ti.| aQ.',\n",
       " '@MBDRCN \\n#LoMaximoMBD https://t.co/a5YmUmBVer',\n",
       " '¡Buenos días! Continuamos con preparación de Pitch. Nuestro mentor @andresbuitragof realiza una sesión especial jun… https://t.co/hjUhD1fcbV',\n",
       " '#26Oct Si observas alguna irregularidad, contacta nuestros canales de comunicación y presenta la denuncia @SeniatRNO https://t.co/BJk5BF2wjT',\n",
       " '“Semana cultural” y me tienen al trote!!!🙂🙂🙂',\n",
       " 'Inicia rueda de prensa del Fiscal General de la República @TarekWiliamSaab',\n",
       " 'En el primer mundo convocan jugadores nacionalizados y hasta campeones del mundo salen, los montañeros de acá no lo podrían aceptar.',\n",
       " '@_venez0lana_ No soy chavista, pero como medio estoy observando en @EmpresasPolar los altos sueldos de sus ejecutiv… https://t.co/4VMQ2mnPNV',\n",
       " '@RevistaSemana MOJIGATOS\\u200b SI HUBIESE SIDO UNA PROFESIONAL FEMENINA ¡ HABRÍAS DENUNCIADO !? ESTE GÜEVON CREE QUE TODOS ADMIRAMOS SU PROFESIÓN',\n",
       " '@MBDRCN #LoMaximoMBD https://t.co/mbyQo5lW1z',\n",
       " '¿Cuál es el límite entre el marketing y la #Corrupción? La respuesta en el taller de dilemas éticos por la experta@… https://t.co/uap1TYVQR4',\n",
       " '@cliffkirby abstención\\nRenuncia a hacer algo, especialmente a emitir el voto en una votación.\\n\"el jefe de la oposic… https://t.co/jTiJvtMod4',\n",
       " 'odeio quando minha mae percebe que to triste e começa a fazer um monte de pergunta plmmd só faz eu piorar',\n",
       " 'Así son las cosas del amor 💙',\n",
       " '@MBDRCN\\n#LoMaximoMBD https://t.co/t7mo1hIjGJ',\n",
       " 'Acaba de publicar una foto en Popayán CO https://t.co/yFqSdihnxY',\n",
       " 'En medio de las diferentes adversidades de la vida solo Dios da fuerzas\\nCréenos vale la pena\\n#CenfolPoblado #Fuerza… https://t.co/Qv3MmPVDbk',\n",
       " '🔴#ENVIVO. Lic. Jaime Bowen, Directivo del @Aucas45.  \"Hace ya varios meses no se le debe a ningún jugador.\"',\n",
       " '#Ahora|| @TarekWiliamSaab: Ofrece información sobre la trama de sabotaje que ha causado un déficit importante en la… https://t.co/fOnFl2wlsv',\n",
       " '@consulv @Guajiritasoy @Alinarubio30 @mcolozzall @MeriflorC @florher37581616 @chinarivas30 Gracias camarada e igual https://t.co/lGtW3WhcZm',\n",
       " 'Te esperamos este #27Oct a la gran Caminata Rosa por la lucha contra el Cáncer de Mama… https://t.co/VMsCwZdviF https://t.co/oINqYImhAy',\n",
       " 'Muy buenos dias para todos. \\n.\\nEste proximo 18 y 19 de Noviembre tendremos el festival de… https://t.co/diGL5GfX0h',\n",
       " 'Este sábado tendremos #SkillsLigaCapitalina para la categoría Sub14 en las pruebas #Sniper… https://t.co/1VlztX1rhU',\n",
       " '@Quimint_SA @Misionpyme Hola,\\nMuchas gracias por utilizar nuestros servicios y por creer en el poder de hacer las c… https://t.co/vjrLhcxDns',\n",
       " '#AEstaHora en Tunja participamos en Rendición Pública de Cuentas @SENAComunica #Boyacá @GjJuliet @BoyacaEsNoticia… https://t.co/EhRAYx5zzf',\n",
       " '#SantaMarta #Cartagena #Colombia #MistaVilteka https://t.co/bKUqwwHvkN https://t.co/b2o8SGk35u',\n",
       " 'INVITACION AL I BIENAL DE ARTE CONTEMPORANEO DE AMERICA SUR https://t.co/p9CUe72HE7',\n",
       " 'A Carlo Ginzburg no le gusta el \"Aquelarre\" de la UN. Cuando vayan a hacer uno en el sentido estricto de la palabra, me llaman.',\n",
       " 'Actualización sobre el movimiento - ¡Se entregarán 1.6 millones de firmas! https://t.co/7t5v1A6amA vía @ChangeorgLatino',\n",
       " 'Hoy es un gran día para el #ValleOroPuro. Superamos récord de medallas 108\\U0001f947 en final nacional de Juegos… https://t.co/FO3bbiL8L5',\n",
       " 'EL CAPI APARECE UN ACTOR DE CINE Y TELEVISIÓN. en La Fama https://t.co/Oe6MffrAHD',\n",
       " '@RadioPlaneta969 https://t.co/tE58r1Kch9',\n",
       " 'Nuevo reporte del #EstadoDeLasVías en #Caldas para hoy. Combos de maquinaria de la Gobernación atentos. https://t.co/0b7NhHUhY9',\n",
       " 'AHORA | Fiscal General @TarekWiliamSaab ofrece declaraciones acerca del caso CADIVI-CENCOEX por #ViVetv',\n",
       " '@SrVilach  https://t.co/ZPHgCO7at8',\n",
       " 'Se chover, dance. 🌂💃',\n",
       " '@xsplitbrasil  Precisamos discutir nosso relacionamento... 😡andei sabendo que a @Terabyteshop  recebeu uns nudes ai',\n",
       " '@emlhleo que se declare de las farc y lo nombran hasta senador... @KALIMAN2017 @FuerzasMilCol @fueramamertos https://t.co/23n3GEmD5J',\n",
       " '\" Hay lugares donde solo se llega viajando en canciones \" https://t.co/WJc2643pPd',\n",
       " '@24h_tve @Desayunos_tve TODO HA SIDO DICHO Y REPETIDO AHORA QUEDA LA ACCIÓN. UNA SOLA ESPAÑA BASADO EN CONSTITUCIÓN… https://t.co/TWkCoi7jLl',\n",
       " 'A por la triple corona #Daytona24 https://t.co/N7x7xZ7do1',\n",
       " '¿cómo se aplican el shampoo?',\n",
       " 'En #FedeLoja se efectúa curso \"Formación de Monitores en DEporte para Todos y Medio Ambiente\" dictado por personero… https://t.co/LBw7zHSWGU',\n",
       " 'Imagino nossa geração futuramente contando pra filhos e netos do show do Luan, golaço de falta do Edílson, o milagre do Grohe. Inesquecível!',\n",
       " 'Bésame.',\n",
       " 'ese arroz chino se ve malandrito jaja',\n",
       " 'Hombre que por cuatro años, Garantizo Paz, trabajo con su inmenso Amor al Táchira impulso la… https://t.co/hOGsWlysi2',\n",
       " 'Son unos asesinos a sangre fría. Ni más ni menos. Deben de pagar los tres por lo sucedido! https://t.co/VEh3fJoZ31',\n",
       " '@gestionperfecta @TayloRodriguez_ el proyecto de Granja integral es para fortalecer  la Empresa de Gas Comunal creada en el Mcpio Torres',\n",
       " '@El__Arracadas Lo que da rabia es que fijo en Cali no nos dan entrada ... @SantaFe siempre deja entrar al visitante y a nosotros casi no.',\n",
       " 'Volvemos y esta vez con una historia escrita por diort22 bajo el lente de kev_araque arake.ph… https://t.co/HPbK68b7i2',\n",
       " 'Lo peor de todo es que me naciera el quererte ver despues de tanto tiempo 🎶',\n",
       " 'A veces me temo que tanta burla por los adidas es falta de plata',\n",
       " \"This narrowmouth #toad is singing its heart out, and it's our Observation of the Day! Seen by jeffvillalba.… https://t.co/rhrEMVQtXd\",\n",
       " 'Hopefully inequality decreases at the same pace. https://t.co/JdOf1gASkc',\n",
       " 'Te invitamos al 2.do Congreso Internacional en Innovación en la Gestión de Organizaciones. https://t.co/tJYHa5tttz https://t.co/y28wqqdWB4',\n",
       " 'Concentramos esfuerzos para contribuir con el desarrollo de la Patria #NadaNosDetiene @FtoledoRNO @SeniatRNO https://t.co/Lq0IoZIoHh',\n",
       " '\"No voy a comprar el #Note8 porque está muy caro, es hora de cambiar. Me voy por el #MotoZ2\" 😖 https://t.co/wjbWH6FPh5',\n",
       " '@RadioPlaneta969 https://t.co/PhMpWB58Hj',\n",
       " 'José Gregorio Hernández, ícono de la fe del venezolano https://t.co/8W1x7KgujQ #ANCUneAVenezuela https://t.co/MzefMDsdm1',\n",
       " '@cliffkirby abstencionista\\nadjetivo\\n1.\\nDel abstencionismo o relacionado con esta actitud.\\n\"la consigna abstencionista del partido radical\"',\n",
       " '“¡ESTALLIDO SOCIAL?” https://t.co/otDhJ4x19Y @APIntegra @RLOZINSKI @ArmandoMartini @pburelli @ElPoliTwico @geopolytica @colominaM @omarbula',\n",
       " '@Dimeyusti que raza es?',\n",
       " 'https://t.co/UW7WEi0KHR',\n",
       " '#PremiumTips de panamapremiumwater \\n\\n💧Es recomendable tomar la cantidad de agua diaria que te… https://t.co/DBPAcbxWgr',\n",
       " 'https://t.co/o5nBnFybgf',\n",
       " '@El__Arracadas Usted que odia a lo argentinos? 🤔',\n",
       " 'Este #throwbackthursday es para recordar esos tiempos en que solo… https://t.co/FvqZgOozPZ',\n",
       " 'el ÉXITO en la vida no lo mides por lo que logras, si no por los obstáculos que SUPERAS.',\n",
       " 'La amiga me sigue porque si pongo la cuenta privada no pueden seguir chismosiando. 😂😂 (Jajaja https://t.co/nKofzdMfuZ)',\n",
       " 'Gostei do seu papo e do seu perfume.',\n",
       " 'El año pasado yo toda ardida con Perdón- Ha Ash hoy que ya supere ese tema, me tanta risa uno entusado si es bien estúpido 😂😂',\n",
       " 'https://t.co/GULzqGYjwR',\n",
       " '@KendallJenner si ya te dio varicela xfavorrr ven a visitarme 😭😭😭😭😭',\n",
       " '@LaBomba_Televen ES QUE SERIA UN SUEÑO CUMPLIDO ANIMAR CON @NewmakerQ @andreinacastro1 EL PROGRAMA QUE ME GUSTA MAS DIOOSS #BombaDeEscandalo',\n",
       " '@TarekWiliamSaab anunció que en las últimas horas han sido aprehendidas 11 personas vinculadas con la industria petrolera',\n",
       " '👇🏼😭💔 la inocencia hermosa q te acerca a Dios... https://t.co/mXNhzkmAe3',\n",
       " '🎶Como en una cancion- Al2.',\n",
       " '@LinaVegaAbad @ElGallinazo @PGN_PANAMA no se si lo hace del maldad o que en el Mp hay gente que no sirve o no quiere servir',\n",
       " 'En #Radiónica180 estamos #AlAire con @WakkoTOP integrante de Radio Calavera 🎙🎸 ¡Los invitamos a sintonizar 99.9 fm!… https://t.co/W5yUx2PfVJ',\n",
       " 'Me dice hpta pero creo que no ha mirado a su mamá \\U0001f937🏼\\u200d♀️\\U0001f937🏼\\u200d♀️',\n",
       " '🔴#ENVIVO. Lic. Jaime Bowen, Directivo del @Aucas45.  \"En #Aucas todavía no se toma ninguna decisión acerca de ningú… https://t.co/pUznedI98W',\n",
       " '#EnDirecto🔴 | Fiscal General @TarekWiliamSaab anuncia nuevas acciones en casos de la Faja Petrolífera del Orinoco y… https://t.co/qh0mgWMaYy',\n",
       " '@MARACAYACTIVA @poto1969 Fácil cuando necesitan aguardiente van saquean las licorerías después salen a votar x el P… https://t.co/REvvWrrFYp',\n",
       " 'Cada vez que pierdo me dan ganas de eliminar esa app😂',\n",
       " 'En Encuentro #TurismoDeNaturaleza   destacamos iniciativas @MincomercioCo para fortalecer infraestructura turística… https://t.co/DZ5rUPM5ea',\n",
       " '. @MetalZamora sigue trabajando por el desarrollo de la patria, actualmente esta desarrollando un proyecto de vario… https://t.co/OZsVc5VpZ3',\n",
       " 'Para adaptarnos al Cambio Climatico la @SantaMartaDTCH a través de la @GestionRiesgoSM y @DADSASM con el #GRICC est… https://t.co/B4k0l9xMcm',\n",
       " 'Abrazarlo se ha vuelto se mis cosas favoritas ☺',\n",
       " '.@AlcaldiadeMed no le caería mal una 🖐️ a los andenes de la cll 31A por la canalización hasta la cra 76 Me dicen qu… https://t.co/jRmm0hcIJa',\n",
       " 'pita merda essas novas skins',\n",
       " '#tbt Visita de fhermana a escuela de música apoyada por fundselvanegra en Bogotá, Colombia https://t.co/uKrKMBBLLM',\n",
       " 'No tengo teléfono desde el 19 de Diciembre del 2014',\n",
       " '#TipsParaelBienestar @UNmedellin apropia espacios de diálogo para resolver las dificultades con las demás personas… https://t.co/3E27yEkh5v',\n",
       " '@LAConviasa @CruzArteagaV Asesoría Técnica en materia de Bienes Públicos a los órganos y entes del sector público. Contactame.',\n",
       " '@_RoqueCastro Narco régimen desesperados,cava mas su tumba,vendrá rebelión.',\n",
       " 'scattered clouds -&gt; broken clouds\\ntemperature up 9°C -&gt; 18°C\\nhumidity down 93% -&gt; 55%\\nwind 3kmh -&gt; 2kmh',\n",
       " '#26Oct Te ofrecemos trámites en línea: IVA, ISLR, RIF, Retenciones, Sucesiones y Sidunea ➡️ https://t.co/4StaaoyeMf  https://t.co/9yNQUiToeJ',\n",
       " 'Así fue la vida de Giordano Bruno https://t.co/kykxyvSwwt #Dios #Venezuela #USA #Colombia #Brasil #Panama #Bolivia… https://t.co/GRE6LOZeXc',\n",
       " 'MEDELLÍN! Esta noche 8pm, en El Blue, será la graduación de mi más reciente taller grupal de stand-up comedy. Los e… https://t.co/dxircjDBEz',\n",
       " '@LaBomba_Televen me encantaa este programaa por siempreeeeee me encantara  #BombaDeEscandalo',\n",
       " 'Comer, rezar, amar.',\n",
       " 'Sismo de 4.8 grados sacudió el nororiente del país,\\nEl epicentro fue la cabecera municipal de Pueblo Bello,en Cesar… https://t.co/iD9KrAGQqE',\n",
       " '@JuanPGuanipa @DesiBarboza @PJZulia_ @unidadvenezuela @mud_zulia El pueblo lo eligio cn voto popular y unos cabeza… https://t.co/HoeaNuVZTp',\n",
       " '@__DramaQueen7 y las tetiks no? jajajajaja',\n",
       " 'Dia Gris...',\n",
       " '#TBT Grandes amistades vea  ✌ en Valledupar, Cesar https://t.co/mDBrGCcYHz',\n",
       " 'Y no crean que es la selección la que nacionaliza gente, no sean burros, es la persona la que decide nacionalizarse si cumple los requisitos',\n",
       " '@juandaballen @ECOPETROL_SA @Bloomberg Gran noticia para los accionistas de la Iguana',\n",
       " 'Tienen que venir a probar esto!!!\\nfrutosos_del_pulpas \\ncaleonr8990 en Bogotá, Colombia https://t.co/48WWVCNqmt',\n",
       " 'SI ESTAS PENSANDO QUE REGARARLE A ESE SER ESPECIAL O  SIMPLEMENTE AMIGO  QUE MEJOR QUE: \\nmomento… https://t.co/HRFP4BBaH6',\n",
       " '10 jóvenes dispuestos y preparados para apoyar el servicio 🎓en convivencia y seguridad ciudadana. #PoliciaGuaviare https://t.co/E9l5RH2adG',\n",
       " 'Lo siento no me gusta peinarme #asidesencillo😏  próxima parada Dios mediante pasto NARIÑO. en… https://t.co/nrxHgjgXmp',\n",
       " 'No soy hija de ninguna puta, pero vos ? 🤔🤔🤔',\n",
       " 'RT @canaldepanama Recopilando todas las publicaciones sobre tránsito del Caribbean Princess Haz click en la imagen: https://t.co/yksGcCYQeJ',\n",
       " '@lcvelez Hombre , el concierto del sábado de ORISHAS se canceló. Por qué el artista no está enterado? 🤔🤔 https://t.co/HvUJJSZ8vC',\n",
       " '@LaBomba_Televen #BombaDeEscandalo LOSS MEJOREES QUE TUBAZOSSS',\n",
       " '@MinPPIBES @NicolasMaduro Asesoría Técnica en materia de Bienes Públicos a los órganos y entes del sector público. Contactame.',\n",
       " '@CiudadCCS Constituyente ILEGAL y NO RECONOCIDA por la comunidad internacional...']"
      ]
     },
     "execution_count": 10,
     "metadata": {},
     "output_type": "execute_result"
    }
   ],
   "source": [
    "finite_stream_listener.tweets"
   ]
  },
  {
   "cell_type": "code",
   "execution_count": 11,
   "metadata": {
    "collapsed": true
   },
   "outputs": [],
   "source": [
    "cleaned_tweets = list(finite_stream_listener.tweets)\n",
    "\n",
    "for cleaning_function in [make_lowercase, remove_diacritics, remove_non_alpha_characters]:\n",
    "    cleaned_tweets = [cleaning_function(tweet) for tweet in cleaned_tweets]"
   ]
  },
  {
   "cell_type": "code",
   "execution_count": 12,
   "metadata": {},
   "outputs": [
    {
     "data": {
      "text/plain": [
       "['no me dejes desistir',\n",
       " 'viiiiiiiiiiih parabens te desejo toda felicidade do mundo que deus te ilumine cada vez mais',\n",
       " 'leaving to citroen to ruin its o my unique weird citroen by making it more normal httpstcoqwwngr',\n",
       " 'somos especialistas en chotear las famosas marchas alguien tiene que explicar en donde danamos lo de odebrecht',\n",
       " 'eusgabs essa caralha num sabe dar uma setaanda seu porra sao as frases que mais uso ksakssak',\n",
       " 'fieles seguidores para los que no saben  mi primer paso musical en grande fue cuando era httpstcoajkxvwv',\n",
       " 'ramongguevaraad agradece al pueblo de merida los votos incendiando buses yutong que los transporta y respeta la ra edad trafficpatriame',\n",
       " 'al enemigo lo que mas le molesta es el brillo que dios puso en ti tu brillo fastidia a los que viven en la oscuridad feliz dia',\n",
       " 'halloween el  de octubre regresa dracula de bram stocker a bogota encuentralo en charlot teatro httpstcoyrckpeozb',\n",
       " 'dejan sin efecto la eleccion de guanipa como gobernador del zulia  via elestimulo  httpstcojsuogzgws httpstcotbogzyvub',\n",
       " 'algun pronunciamiento del generalnietor o policiacolombia mindefensa sobre el uso excesivo de la fuerza a mujeres y ninos indigenas',\n",
       " 'hoy en el meta el senaresponde sobre la vigencia  httpstcoixobiuflh',\n",
       " 'militantdigital pacoram lenin marialevicuna emangasm leninistasec maximaccionap vamoslenin httpstcocdwmsbaztn',\n",
       " 'erase una vez en turquia tbt travel httpstcozleyifcmy',\n",
       " 'nicolasmaduro mis hijos tienen derecho a comerrrrrrrrrrrrrrrrrrrrrrrrrrrrrrrrrrrrrrrrrrrrr',\n",
       " 'metro medellin comparte con entes gestores setp caracteristicas de la asistencia tecnica a transcaribesitm httpstcolejacizt',\n",
       " 'ya olvide tu nombre solo recuerdo que eres un excelente actor',\n",
       " 'caracas no tiene alcalde y esa es la verdad un inepto como jorge rodriguez no merece ser llamado asi oct',\n",
       " 'esas personas que tratan mal a quien los atienden quien hijueputas se creen',\n",
       " 'exclusas de miraflores   photoshoot panamatravel citytour panamacanal miraflores en httpstcobtqqvgqv',\n",
       " 'si ensenamos a los alumnos de hoy como ensenabamos ayer les estamos robado el futuro  j deweyque gran verdad',\n",
       " 'andresmania gracias andres muy amable de su parte',\n",
       " 'las feriasdelcamposoberano fortalecen el desarrollo de la economia local y la participacion de pequenos productores httpstcomubxduag',\n",
       " 'httpstcopfviey',\n",
       " 'hola estoy obsesionada con mi cabello bye httpstcotmrxwqqotp',\n",
       " 'thaniavegap que se declare de las farc y lo nombran hasta senador httpstcounjmompqxk',\n",
       " 'hoy no es un dia normal hoy juegaaaa junioooooor  vamosquevamos juniorclubsa  copasudamericana',\n",
       " 'jovenbix videoxx gay chapinero callea noa cel  nudismo total fin de semanaeste proximo  de niv httpstcolsaebri',\n",
       " 'exoputs unnie eu tava lendo suas historias de ontem e sao mto boas hj vc vai contar mais ne',\n",
       " 'militantdigital pacoram lenin marialevicuna emangasm leninistasec maximaccionap vamoslenin httpstcoevspnkwolr',\n",
       " 'vive sin rencores pero con memoria',\n",
       " 'siganme los buenos',\n",
       " 'worldboxingorg steveucnlive terryflanagan linares fight wasnt signed',\n",
       " 'laidygomezf vpitv oct laidygomezf le dice a sus detractores que gobernara para todos',\n",
       " 'no hay nada mas rico que probar esa boquita',\n",
       " ' httpstcosyzdjffgv',\n",
       " 'banda criminal esmad masacra campesinos ataca brutalmente a los indigenas y viola derechos esenciales de la ciudadania catatumboresiste',\n",
       " 'se suspende audiencia contra ventura ceballos porque renuncio a la defensa publica se programa audiencia para el  de noviembre a las am',\n",
       " 'les presento a mi crush httpstcoisiokdtv',\n",
       " 'i loveme some baldsoo',\n",
       " 'los suenos se cumplen cuando se los entregamos a dios',\n",
       " 'asi vivimos la segunda version de la semana  de la psicologia ciencia e innovacion  educacion httpstcowtpvrqpn',\n",
       " 'ricardolombanag hare mis responsables esfuerzos como ciudadano para lograr de que seas presidente de panama tengo httpstcogrocjfool',\n",
       " ' conmigo estas y como dice lacancionhttpstcosvshnzxrepost oscarcampo httpstcovdagszjoc',\n",
       " ' imposible olvidar tu talismanirresistible remar contra tu atraccion ',\n",
       " 'lukeborgess bella',\n",
       " 'mbdrcn httpstcobchybuajbe',\n",
       " 'cliffkirby lo que queremos es un lider como toledo de peru que llamo a los militares e inclusive llamo a la absten httpstcossnrzhnl',\n",
       " 'la nacionalizacion de franco armani no es un tema nuevo de esto ya habiamos hablado hace tiempo en redmastv httpstcorpyqmlwoi',\n",
       " 'que fueron las cruzadas cristianas httpstcolzblnxvctd dios venezuela usa colombia brasil panama httpstcoodbmxeqlf',\n",
       " 'eu vim pra reza',\n",
       " 'el trabajo conjunto con rapcaribe garantiza una exitosa planificacion rural agropecuaria de la region httpstcoiqrlpzkbj',\n",
       " 'infosinbandera alojusticia cristinakirchner sabe q menos hablas y alegas en audiencia  tribunales menos tienes d httpstconjebdytlt',\n",
       " 'gestionperfecta freddybernal el clap de sicarigua tiene proyecto agroproductivo para impulsar la produccion de rubros esenciales',\n",
       " 'la mejor estrategia de retencion la tiene claroteayuda cuando llamas a pedir cancelacion te dejan en la linea hasta q te aburres y cuelgas',\n",
       " 'solicita nuestra propuesta de servicio via correoevenclasscagmailcom festejo eventossociales  anos httpstcopwnimxg',\n",
       " 'y sigo diciendo nadie es capaz de valorar lo que haces por ellos',\n",
       " 'jerobledo claudialopez sergiofajardo juanslopezm leonidasgomezg danielsampero httpstcopsvnxpaj',\n",
       " 'yo httpstcohkhvlbtji',\n",
       " 'enteratenuestras cuadrillasactivadas en cada rincon del municipio llevaron a cabo desmalezamiento en los olivos httpstcoczbrrcyni',\n",
       " 'endirecto  ministro pinfantea el pais cuenta con  entrenadores que van a pasar por todos los modulos de for httpstcocowdtfl',\n",
       " 'por que no una rica ensalada crispy  en bistrocolado esta espectacular ensalada es con pollo httpstcohxwzwggxc',\n",
       " 'seguimos sorprendiendo y regalando momentos felices desayunos sorpresa sorprende con amor san gil santander httpstcojwkhgoyh',\n",
       " 'labombateleven yoo quierooo serrr la animadoraaaaaa no me cansare de tuitear por lograr lo que quieroooooo amen bombadeescandalo',\n",
       " 'se gano el premio al mas imbecil',\n",
       " 'esas son las vainas q me arrechan del gobierno  httpstcorcwoqcebqw',\n",
       " 'aestahora en coliseo de comuna  calico recibimos de alcaldiadecali parque automotor elementos para sensibiliz httpstcovjzuizqhwk',\n",
       " 'jalejandro lisbethrosado secobrasvpar inspeccionamos cada detalle de esta ejecucion que sin duda sera un atr httpstcoamrukrio',\n",
       " 'pabmgo nooooo yo soy un amor con mis clientes pero hay gente que ne verdad de pasa  y esa senora se paso  inhala y exhala',\n",
       " 'juez primera penal se acoge al termino para calificar el sumario en caso del exdirector de la dgi y otros cinco imputados',\n",
       " 'alojusticia cristinakirchner sabe q menos hablas y alegas en audiencia  tribunales menos tienes de demostrar pa probar en ambito juridico',\n",
       " ' estar sentada sin hacer nada mirando de lejos y estar relajada  en el patio de lile httpstcogbpzpxpm',\n",
       " 'el clima de hoy en medellin es digno de una cobija caliente un chocolate recien hervido y una buena pelicula pero esta el trabajo',\n",
       " 'hermanntertsch cuestion de accountability una palabra clara y precisa para ocasiones como esta',\n",
       " 'there is a correlation between corruption amp poverty corruption is inhibiting development mauricio ramos ceo of millicom cadf',\n",
       " 'ahora andas poniendole veladoras al equipo que te mando ala promocion  httpstcoymhhxsxp jajajaajajajajajaaj',\n",
       " 'ese video de paulina vega me arreglo el diaa ',\n",
       " 'tengo mucho sueno acumulado ',\n",
       " 'si lo dice el presidente del senado que provoco la salida de pirrytv de rcn por lios de tierra debe ser cierto httpstcopoqqezvqm',\n",
       " 'httpstconhgjaxb',\n",
       " 'yo si odio enfermarme',\n",
       " 'oscarcuadrosq hola oscar por favor a traves dm cuentanos detalles de lo que ocurrio httpstcopbcvbrzx estamos atentos',\n",
       " 'buenos dias bebes ',\n",
       " 'invitados a conocer al ganador del premiocuentoggm  noviembre  a las  am en miteatrocolon httpstcoooesnammq',\n",
       " 'cliffkirby lo que necesitamos toledo afirma que peru es una dictadura y pide al ejercito que abandone a fujimori httpstcoeeddwudn',\n",
       " 'oct cerrada via charallave  ocumare por enfrentamiento delincuentes activaron  granadas contra ose httpstcoofgcvrlck  cesguar',\n",
       " 'otrieobga comparte el dia de hoy su experiencia y servicios en el comite cientifico de ingenierias de la httpstcoacpyju',\n",
       " 'juanrealdc que se declare de las farc y lo nombran hasta senador  elpatriota ejercitodiv httpstcoadfqpqh',\n",
       " 'jairldu davilaaurelio dannyfabia si es que fuese asi mas vergonzoso es negar los genes porque te parieron en otro suelo jajajaja',\n",
       " 'revistasemana oizuluaga honorablemente corrupta y tiene el descaro de sacar pecho cuando se archiva su caso por httpstcohniatvv',\n",
       " 'le falta playa httpstcoghmcinj',\n",
       " 'srk duele y pareciera que la unica cura esta en comprar un pasaje a cualquier fucking lado que no sea este',\n",
       " 'karymelozano hola  kary q mala  en volver a  empezar y el manantial tambien  t veo en el talisman besos y bendiciones',\n",
       " 'tengo como  gb en archivos de trabajos y no encuentro nada c',\n",
       " 'cafefutbolred futbolred pajaritodeivan no nacionalizar y convocar a armani  estan pintados los que no creen en este pais ',\n",
       " 'el perro marica de mi abuela se orino y yo de buena gente me puse a limpiar y por marica eche limpido y me cague u httpstcofirxubjsie',\n",
       " 'cnecorrupcionelectoral cnecolombia la incompetencia y la corrupcion en un solo lugar el paraiso de las ratas empezando por uds mismos',\n",
       " 'a lojareversa ja e minha preferida nunca comprei mas so de olhar as coisinhas to apaixxxx ',\n",
       " 'mrboxingguru steveucnlive karma httpstcoqojztel',\n",
       " 'sahowardt viceministra de turismo dicta conferencia sobre diversidad en el xi encuentro de turismo de naturaleza httpstcoxhjxfrsjk',\n",
       " 'noticiaun modelo determina costos de prevencion en salud ocupacional httpstcowggicci arqunalmed httpstcoqobiqvos',\n",
       " 'club rotario de bogota en su bingo anual en favor de las comunidades con  alto riesgo de httpstcofnhxkldo',\n",
       " 'fabricallejero secardenyt jajajaja creo que no has jugado pes antes es un poco fastidioso que defensas lentos httpstcofenpjjrez',\n",
       " 'un nuevo servicio llega a surtiplazadisfruta en gelato nostro ibague del autentico sabor italiano con unos preci httpstcoxwazficq',\n",
       " 'aestahora damos inicio jornada de atencion y orientacion a ciudadanos venezolanos sobre situacion migratoria httpstcopuyxakz',\n",
       " 'desde ibague estudiantes siguen comprometidos con la semana contralosmosquitos y promueven con murales algunas a httpstcohqakliyi',\n",
       " 'hoy evento de cuenteria  gratis  udenar udenardigital halloween cuentos pasto felizjueves httpstcomnucbian',\n",
       " 'anoche estuvimos en el gaming market colombia  con nuestra banda de jazz manouche no busques httpstcoblcdcbcrq',\n",
       " 'the more you say no and loudly the less they will ask mauricioramos oncorruption and privatesector seaif',\n",
       " 'reporteya laidygomezf vpitv nos defraudaron',\n",
       " 'jajajaj jjaja en radio munera httpstcoocuglixj',\n",
       " 'ya bane a los tres perros y los seque a los tres soy es yo en k',\n",
       " 'convocatoria formacion sena en el municipio de velezsantander y aledanos httpstcovxvskvp',\n",
       " 'la freskola aun se vende en villavicencio wradiocolombia ',\n",
       " 'no naci para intentarlo naci para lograrlo ',\n",
       " 'hallofridayuna noche para comenzar el halloweenluxury como se debe la mejor fiesta urbana de httpstcomfssihxku',\n",
       " ' httpstcovcxzjmw',\n",
       " 'mi profesor de to ano que me envio nudes hizo un taller en el colegio donde estudie llamado me envio nudes y ahor httpstcogruvxvpr',\n",
       " 'enrique iglesias so tem hino',\n",
       " 'es demasiado aburrido no estar a tu lado',\n",
       " 'es genial ver el uso de mis productos silalexanderarz en la emision de citytv en uno de mis clientes en pontevedra spa losdelbarrio',\n",
       " 'renanfontalvo excelente lectura',\n",
       " 'tripneustes ventricosus o erizo blanco le gusta camuflarse con el fondo herbivoros importante en los ecosistema httpstcowbabquovi',\n",
       " 'aprende a descansar no ha renunciar',\n",
       " 'solicite una evaluacion de distritos educativos queremos a los mejores profesionales en el equipo fanderfalconi httpstcoidbpbkcmjb',\n",
       " 'faltan dos dias y aun estoy sin saber que hacer ',\n",
       " 'que ganas de cocheros ',\n",
       " 'yo soy un imbecil que no aprende de los errores del pasado por eso me cogen de marica httpstcoxxqcmau',\n",
       " 'labombateleven bombadeescandalo losss mejoreeess yoo quierooo ser la ganadoraa participando desde siempreeeeee bombadeescandalo',\n",
       " 'gracias idtbogota enriquepenalosa  joseduarteg seguimos comprometidos en la construccion del destino turistico q httpstcolhreyiqsup',\n",
       " 'ayudaaaaaaaaaaaaaaaaaa',\n",
       " 'conferencia sobre etica judicial en el consejodeestado httpstcovjabcip',\n",
       " 'holajuevesdeganarseguidores',\n",
       " ' httpstcodfdptvc',\n",
       " 'oct a pesar de autoexclusion en este momento varios dirigentes de ad celebrando por esta via la juramentacion de laidy gomez aaad',\n",
       " 'linavegaabad elgallinazo pgnpanama pero lo peor es que el mp no cumple las garantias y el debido proceso',\n",
       " 'proximamente televentv transmitira la trepadora cuyo tema central solamente tu es interpretado por mi representado rommelrodriguen dtb',\n",
       " 'portisomosseniat  somos fuerza trabajadora al servicio del pueblo nadanosdetiene seniatrno httpstcoipslctnubp',\n",
       " 'danielamejiat jajaja no estoy ahorrando para nuestro matrimonio ',\n",
       " 'entrega inmediata llegaron   meses  meses talla  talla  talla  talla  linda httpstcodiyhoyzmx',\n",
       " 'estos son recuerdo cuando este par socios decidieron conocer el pais de kperezleon bastante q lo disfrutaron yo httpstcoirtjawzbr',\n",
       " 'u aint enough  me  much  u ',\n",
       " 'cuando le digo a mi mami que la amo pero esta echando chisme por telefono con mis tias y me ignora httpstcobkkbqam',\n",
       " 'carlosfmejia que se declare de las farc y lo nombran hasta senador comandanteejc  generalbarrero httpstcolbbnwexom',\n",
       " 'el proximo  de noviembre mincultura anunciara el ganador del premiocuentoggm  am en miteatrocolon httpstcoeckxgllp',\n",
       " 'mi reconocimiento a antioquiasostenible por su trabajo en oriente antioqueno en su vision de sostenibilidad conect httpstcoxqmyuvpgq',\n",
       " 'alejandraq obvioo',\n",
       " 'tu lo que quiere es que te coma el tigre',\n",
       " 'igual pasa en nueva gorgona todos los fines de semana y gnfpa no hace nada pero el recibo de luz si llega a tiem httpstcokpdyeeoiy',\n",
       " 'nada como un sexy culito para alegrarte el dia  mg y rt si quieres con migo   httpstcovktgtmz',\n",
       " 'feliz cumpleanos idolo ldoficial  httpstcodoobcen',\n",
       " 'uno de los privilegios de alquilar un apto cerca a la bahia  es gozar del pasaje peatonal para httpstcosdtfmrkx',\n",
       " 'grande martin oigan oigan  bueno pues en guatapuri plaza httpstcowixljqqfq',\n",
       " 'hoy es dia de cazuelas hoy es x x  solo en elfarodemaradentro aprovecha hoy nuestra httpstcoliwzxxrve',\n",
       " 'corte suprema ordeno recaptura del exsenador oscar suarez por enriquecimiento ilicito httpstcofpeyjeph lafm httpstconfgotgj',\n",
       " 'anlacol sabe proyecto sotonorte de minesacol esta parcialmente en zona restauracion otro motivo para negar licencia mccconciencia',\n",
       " 'pues si estas conmigo ya no hara falta nada',\n",
       " 'no se cual es el afan de ciertos odontologos en llenar los dientes al paciente con resina cuando se le pueden brindar otras opciones de tto',\n",
       " 'gestionperfecta taylorodriguez tenemos proyecto de granja integral para la epsdc robert serra del mcpio torres',\n",
       " 'remateravhipico ponle otro al cubita a k',\n",
       " 'en el auditorio del colegio coedumag de santamarta se dio inicio al seminarioregionalantidopaje que busca promove httpstcocugrtvn',\n",
       " 'cuando pido empanadas y llegan frias httpstcoaztojoetkd',\n",
       " 'si tienen problemas piensen en puigdemont si cataluna se independiza queda en la quiebra y si no lo hace el va a prision por  anos min',\n",
       " 'tendencias que nos roban el corazon morrales beker la ultima moda intagram modafemenina httpstcolktyxyjoj',\n",
       " 'acho que vou fazer outro make halloween pq sou dessas',\n",
       " 'oye loko del atico rafik porque no sigues jodiendo o la conciencia t hace ver la realidad kmo dejaste el pais q cada dia sale mas pus cdtm',\n",
       " 'controlfisico cobosfrancoinc concejovillavo httpstconkfmsbcjo',\n",
       " 'aprende a descansar no a renunciar',\n",
       " 'muy pronto me sacare la espinita ',\n",
       " 'httpstcoejdecelyk',\n",
       " 'labombateleven bombadeescandalo yooo quierooo ser la ganadoraa me ganare eseee dia de fama mueroo por estar con ustedes',\n",
       " 'atentos tunja  nov y bogota  nov doctorkrapula junto a invitados de lujo txarango dontetto somosizquierdo imp httpstcotcyfszgo',\n",
       " 'yebkira davilaaurelio dannyfabia jajajajajaja no demuestren tanto que sin altura y horario sienten que pier httpstconcksgopvx',\n",
       " 'ojala la universidad quedara al frente de donde vivo',\n",
       " 'alguien que me de una buena definicion de persona antisocial',\n",
       " 'si quieren me pueden seguir en instagram como paulamacias',\n",
       " 'vacatiooonsssssss ',\n",
       " 'ella esta bien solo le hace falta la ortodoncia rinoplastia la lipo y ya',\n",
       " 'y esta cefalea que me acompana desde que desperte sera que no se piensa ir  ',\n",
       " 'ronaldquintero luchyb schonenblauen ronald lleva a tu nina a orsoheladeria te mueres de la emocion y ella mas',\n",
       " 'cadf httpstcovdqdjs',\n",
       " 'hace poco mas de  anos vendi la mitad de mi por eso cielo no me lleva a plenitud pero algo tenia que hacer por ti aq',\n",
       " 'mbdrcn lomaximombd httpstcoaymumbver',\n",
       " 'buenos dias continuamos con preparacion de pitch nuestro mentor andresbuitragof realiza una sesion especial jun httpstcohjuhdfcbv',\n",
       " 'oct si observas alguna irregularidad contacta nuestros canales de comunicacion y presenta la denuncia seniatrno httpstcobjkbfwjt',\n",
       " 'semana cultural y me tienen al trote',\n",
       " 'inicia rueda de prensa del fiscal general de la republica tarekwiliamsaab',\n",
       " 'en el primer mundo convocan jugadores nacionalizados y hasta campeones del mundo salen los montaneros de aca no lo podrian aceptar',\n",
       " 'venezlana no soy chavista pero como medio estoy observando en empresaspolar los altos sueldos de sus ejecutiv httpstcovmqmnpnv',\n",
       " 'revistasemana mojigatos  si hubiese sido una profesional femenina  habrias denunciado  este guevon cree que todos admiramos su profesion',\n",
       " 'mbdrcn lomaximombd httpstcombyqolwz',\n",
       " 'cual es el limite entre el marketing y la corrupcion la respuesta en el taller de dilemas eticos por la experta httpstcouaptyvqr',\n",
       " 'cliffkirby abstencionrenuncia a hacer algo especialmente a emitir el voto en una votacionel jefe de la oposic httpstcojtijvtmod',\n",
       " 'odeio quando minha mae percebe que to triste e comeca a fazer um monte de pergunta plmmd so faz eu piorar',\n",
       " 'asi son las cosas del amor ',\n",
       " 'mbdrcnlomaximombd httpstcotmohijgj',\n",
       " 'acaba de publicar una foto en popayan co httpstcoyfqsdihnxy',\n",
       " 'en medio de las diferentes adversidades de la vida solo dios da fuerzascreenos vale la penacenfolpoblado fuerza httpstcoqvmmpvdbk',\n",
       " 'envivo lic jaime bowen directivo del aucas  hace ya varios meses no se le debe a ningun jugador',\n",
       " 'ahora tarekwiliamsaab ofrece informacion sobre la trama de sabotaje que ha causado un deficit importante en la httpstcofonflwlsv',\n",
       " 'consulv guajiritasoy alinarubio mcolozzall meriflorc florher chinarivas gracias camarada e igual httpstcolgtwwhczm',\n",
       " 'te esperamos este oct a la gran caminata rosa por la lucha contra el cancer de mama httpstcovmscwzdvif httpstcooinqyimhay',\n",
       " 'muy buenos dias para todos este proximo  y  de noviembre tendremos el festival de httpstcodiglgfxh',\n",
       " 'este sabado tendremos skillsligacapitalina para la categoria sub en las pruebas sniper httpstcovlztxrhu',\n",
       " 'quimintsa misionpyme holamuchas gracias por utilizar nuestros servicios y por creer en el poder de hacer las c httpstcovjrlhcxdns',\n",
       " 'aestahora en tunja participamos en rendicion publica de cuentas senacomunica boyaca gjjuliet boyacaesnoticia httpstcoehrayxzzf',\n",
       " 'santamarta cartagena colombia mistavilteka httpstcobkuqwwhvkn httpstcobosgku',\n",
       " 'invitacion al i bienal de arte contemporaneo de america sur httpstcopcuehe',\n",
       " 'a carlo ginzburg no le gusta el aquelarre de la un cuando vayan a hacer uno en el sentido estricto de la palabra me llaman',\n",
       " 'actualizacion sobre el movimiento  se entregaran  millones de firmas httpstcotvaama via changeorglatino',\n",
       " 'hoy es un gran dia para el valleoropuro superamos record de medallas  en final nacional de juegos httpstcofobbill',\n",
       " 'el capi aparece un actor de cine y television en la fama httpstcooemffrahd',\n",
       " 'radioplaneta httpstcoterkch',\n",
       " 'nuevo reporte del estadodelasvias en caldas para hoy combos de maquinaria de la gobernacion atentos httpstcobnhhuhy',\n",
       " 'ahora  fiscal general tarekwiliamsaab ofrece declaraciones acerca del caso cadivicencoex por vivetv',\n",
       " 'srvilach  httpstcozphgcoat',\n",
       " 'se chover dance ',\n",
       " 'xsplitbrasil  precisamos discutir nosso relacionamento andei sabendo que a terabyteshop  recebeu uns nudes ai',\n",
       " 'emlhleo que se declare de las farc y lo nombran hasta senador kaliman fuerzasmilcol fueramamertos httpstcongemdj',\n",
       " ' hay lugares donde solo se llega viajando en canciones  httpstcowjcppd',\n",
       " 'htve desayunostve todo ha sido dicho y repetido ahora queda la accion una sola espana basado en constitucion httpstcotwkcoijll',\n",
       " 'a por la triple corona daytona httpstconxxzdo',\n",
       " 'como se aplican el shampoo',\n",
       " 'en fedeloja se efectua curso formacion de monitores en deporte para todos y medio ambiente dictado por personero httpstcolbwzhswgu',\n",
       " 'imagino nossa geracao futuramente contando pra filhos e netos do show do luan golaco de falta do edilson o milagre do grohe inesquecivel',\n",
       " 'besame',\n",
       " 'ese arroz chino se ve malandrito jaja',\n",
       " 'hombre que por cuatro anos garantizo paz trabajo con su inmenso amor al tachira impulso la httpstcohogswlysi',\n",
       " 'son unos asesinos a sangre fria ni mas ni menos deben de pagar los tres por lo sucedido httpstcovehfjoz',\n",
       " 'gestionperfecta taylorodriguez el proyecto de granja integral es para fortalecer  la empresa de gas comunal creada en el mcpio torres',\n",
       " 'elarracadas lo que da rabia es que fijo en cali no nos dan entrada  santafe siempre deja entrar al visitante y a nosotros casi no',\n",
       " 'volvemos y esta vez con una historia escrita por diort bajo el lente de kevaraque arakeph httpstcohpbkbi',\n",
       " 'lo peor de todo es que me naciera el quererte ver despues de tanto tiempo ',\n",
       " 'a veces me temo que tanta burla por los adidas es falta de plata',\n",
       " 'this narrowmouth toad is singing its heart out and its our observation of the day seen by jeffvillalba httpstcorhremvqtxd',\n",
       " 'hopefully inequality decreases at the same pace httpstcojdofgaskc',\n",
       " 'te invitamos al do congreso internacional en innovacion en la gestion de organizaciones httpstcotjyhatttz httpstcoywqqdwb',\n",
       " 'concentramos esfuerzos para contribuir con el desarrollo de la patria nadanosdetiene ftoledorno seniatrno httpstcolqioziohh',\n",
       " 'no voy a comprar el note porque esta muy caro es hora de cambiar me voy por el motoz  httpstcowjbwhfph',\n",
       " 'radioplaneta httpstcophmpwbhj',\n",
       " 'jose gregorio hernandez icono de la fe del venezolano httpstcowxkgujq ancuneavenezuela httpstcomzefmdsdm',\n",
       " 'cliffkirby abstencionistaadjetivodel abstencionismo o relacionado con esta actitudla consigna abstencionista del partido radical',\n",
       " 'estallido social httpstcootdhjxy apintegra rlozinski armandomartini pburelli elpolitwico geopolytica colominam omarbula',\n",
       " 'dimeyusti que raza es',\n",
       " 'httpstcouwweikhr',\n",
       " 'premiumtips de panamapremiumwater es recomendable tomar la cantidad de agua diaria que te httpstcodbpacbxwgr',\n",
       " 'httpstcoonbnfybgf',\n",
       " 'elarracadas usted que odia a lo argentinos ',\n",
       " 'este throwbackthursday es para recordar esos tiempos en que solo httpstcofvqzgoozpz',\n",
       " 'el exito en la vida no lo mides por lo que logras si no por los obstaculos que superas',\n",
       " 'la amiga me sigue porque si pongo la cuenta privada no pueden seguir chismosiando  jajaja httpstconkofzdmfuz',\n",
       " 'gostei do seu papo e do seu perfume',\n",
       " 'el ano pasado yo toda ardida con perdon ha ash hoy que ya supere ese tema me tanta risa uno entusado si es bien estupido ',\n",
       " 'httpstcogulzqgyjwr',\n",
       " 'kendalljenner si ya te dio varicela xfavorrr ven a visitarme ',\n",
       " 'labombateleven es que seria un sueno cumplido animar con newmakerq andreinacastro el programa que me gusta mas diooss bombadeescandalo',\n",
       " 'tarekwiliamsaab anuncio que en las ultimas horas han sido aprehendidas  personas vinculadas con la industria petrolera',\n",
       " ' la inocencia hermosa q te acerca a dios httpstcomxnhzkmae',\n",
       " 'como en una cancion al',\n",
       " 'linavegaabad elgallinazo pgnpanama no se si lo hace del maldad o que en el mp hay gente que no sirve o no quiere servir',\n",
       " 'en radionica estamos alaire con wakkotop integrante de radio calavera  los invitamos a sintonizar  fm httpstcowyuxpfvj',\n",
       " 'me dice hpta pero creo que no ha mirado a su mama ',\n",
       " 'envivo lic jaime bowen directivo del aucas  en aucas todavia no se toma ninguna decision acerca de ningu httpstcopuznediw',\n",
       " 'endirecto  fiscal general tarekwiliamsaab anuncia nuevas acciones en casos de la faja petrolifera del orinoco y httpstcoqhmgwmayy',\n",
       " 'maracayactiva poto facil cuando necesitan aguardiente van saquean las licorerias despues salen a votar x el p httpstcorevvwrrfyp',\n",
       " 'cada vez que pierdo me dan ganas de eliminar esa app',\n",
       " 'en encuentro turismodenaturaleza   destacamos iniciativas mincomercioco para fortalecer infraestructura turistica httpstcodzrupmea',\n",
       " ' metalzamora sigue trabajando por el desarrollo de la patria actualmente esta desarrollando un proyecto de vario httpstcoozsvcvpz',\n",
       " 'para adaptarnos al cambio climatico la santamartadtch a traves de la gestionriesgosm y dadsasm con el gricc est httpstcobklxmcm',\n",
       " 'abrazarlo se ha vuelto se mis cosas favoritas ',\n",
       " 'alcaldiademed no le caeria mal una  a los andenes de la cll a por la canalizacion hasta la cra  me dicen qu httpstcojrmmhcija',\n",
       " 'pita merda essas novas skins',\n",
       " 'tbt visita de fhermana a escuela de musica apoyada por fundselvanegra en bogota colombia httpstcoukrkmbbllm',\n",
       " 'no tengo telefono desde el  de diciembre del ',\n",
       " 'tipsparaelbienestar unmedellin apropia espacios de dialogo para resolver las dificultades con las demas personas httpstcoeyekhv',\n",
       " 'laconviasa cruzarteagav asesoria tecnica en materia de bienes publicos a los organos y entes del sector publico contactame',\n",
       " 'roquecastro narco regimen desesperadoscava mas su tumbavendra rebelion',\n",
       " 'scattered clouds gt broken cloudstemperature up degc gt degchumidity down  gt wind kmh gt kmh',\n",
       " 'oct te ofrecemos tramites en linea iva islr rif retenciones sucesiones y sidunea  httpstcostaaoyemf  httpstcoynquitoej',\n",
       " 'asi fue la vida de giordano bruno httpstcokykxyvswwt dios venezuela usa colombia brasil panama bolivia httpstcogrelozexc',\n",
       " 'medellin esta noche pm en el blue sera la graduacion de mi mas reciente taller grupal de standup comedy los e httpstcodxircjdbez',\n",
       " 'labombateleven me encantaa este programaa por siempreeeeee me encantara  bombadeescandalo',\n",
       " 'comer rezar amar',\n",
       " 'sismo de  grados sacudio el nororiente del paisel epicentro fue la cabecera municipal de pueblo belloen cesar httpstcoidkragqqe',\n",
       " 'juanpguanipa desibarboza pjzulia unidadvenezuela mudzulia el pueblo lo eligio cn voto popular y unos cabeza httpstcohoeanuvztp',\n",
       " 'dramaqueen y las tetiks no jajajajaja',\n",
       " 'dia gris',\n",
       " 'tbt grandes amistades vea   en valledupar cesar httpstcomdbrgccyhz',\n",
       " 'y no crean que es la seleccion la que nacionaliza gente no sean burros es la persona la que decide nacionalizarse si cumple los requisitos',\n",
       " 'juandaballen ecopetrolsa bloomberg gran noticia para los accionistas de la iguana',\n",
       " 'tienen que venir a probar estofrutososdelpulpas caleonr en bogota colombia httpstcowwvcnqmt',\n",
       " 'si estas pensando que regararle a ese ser especial o  simplemente amigo  que mejor que momento httpstcohrfpbbah',\n",
       " ' jovenes dispuestos y preparados para apoyar el servicio en convivencia y seguridad ciudadana policiaguaviare httpstcoelrhadg',\n",
       " 'lo siento no me gusta peinarme asidesencillo  proxima parada dios mediante pasto narino en httpstconrxhgjgxmp',\n",
       " 'no soy hija de ninguna puta pero vos  ',\n",
       " 'rt canaldepanama recopilando todas las publicaciones sobre transito del caribbean princess haz click en la imagen httpstcoyksgccyqej',\n",
       " 'lcvelez hombre  el concierto del sabado de orishas se cancelo por que el artista no esta enterado  httpstcohvujjszvc',\n",
       " 'labombateleven bombadeescandalo loss mejorees que tubazosss',\n",
       " 'minppibes nicolasmaduro asesoria tecnica en materia de bienes publicos a los organos y entes del sector publico contactame',\n",
       " 'ciudadccs constituyente ilegal y no reconocida por la comunidad internacional']"
      ]
     },
     "execution_count": 12,
     "metadata": {},
     "output_type": "execute_result"
    }
   ],
   "source": [
    "cleaned_tweets"
   ]
  },
  {
   "cell_type": "markdown",
   "metadata": {},
   "source": [
    "# Dormir con tus datos"
   ]
  },
  {
   "cell_type": "markdown",
   "metadata": {},
   "source": [
    "Enterarnos de primera mano que datos tenemos y que datos necesitamos"
   ]
  },
  {
   "cell_type": "markdown",
   "metadata": {},
   "source": [
    "´pprint´ Es para que se vean bonitos los tweets al imprimirlos"
   ]
  },
  {
   "cell_type": "code",
   "execution_count": 13,
   "metadata": {
    "collapsed": true
   },
   "outputs": [],
   "source": [
    "%matplotlib inline\n",
    "\n",
    "from pprint import pprint\n",
    "import pandas as pd"
   ]
  },
  {
   "cell_type": "code",
   "execution_count": 42,
   "metadata": {
    "collapsed": true
   },
   "outputs": [],
   "source": [
    "KEYWORD = 'es'"
   ]
  },
  {
   "cell_type": "markdown",
   "metadata": {},
   "source": [
    "### Primeros 10 tweets"
   ]
  },
  {
   "cell_type": "code",
   "execution_count": 43,
   "metadata": {},
   "outputs": [
    {
     "name": "stdout",
     "output_type": "stream",
     "text": [
      "['no me dejes desistir',\n",
      " 'viiiiiiiiiiih parabens te desejo toda felicidade do mundo que deus te '\n",
      " 'ilumine cada vez mais',\n",
      " 'leaving to citroen to ruin its o my unique weird citroen by making it more '\n",
      " 'normal httpstcoqwwngr',\n",
      " 'somos especialistas en chotear las famosas marchas alguien tiene que '\n",
      " 'explicar en donde danamos lo de odebrecht',\n",
      " 'eusgabs essa caralha num sabe dar uma setaanda seu porra sao as frases que '\n",
      " 'mais uso ksakssak',\n",
      " 'fieles seguidores para los que no saben  mi primer paso musical en grande '\n",
      " 'fue cuando era httpstcoajkxvwv',\n",
      " 'ramongguevaraad agradece al pueblo de merida los votos incendiando buses '\n",
      " 'yutong que los transporta y respeta la ra edad trafficpatriame',\n",
      " 'al enemigo lo que mas le molesta es el brillo que dios puso en ti tu brillo '\n",
      " 'fastidia a los que viven en la oscuridad feliz dia',\n",
      " 'halloween el  de octubre regresa dracula de bram stocker a bogota '\n",
      " 'encuentralo en charlot teatro httpstcoyrckpeozb',\n",
      " 'dejan sin efecto la eleccion de guanipa como gobernador del zulia  via '\n",
      " 'elestimulo  httpstcojsuogzgws httpstcotbogzyvub']\n"
     ]
    }
   ],
   "source": [
    "pprint(cleaned_tweets[:10])"
   ]
  },
  {
   "cell_type": "markdown",
   "metadata": {},
   "source": [
    "### ¿Cuantas veces aparece la palabra clave?"
   ]
  },
  {
   "cell_type": "markdown",
   "metadata": {},
   "source": [
    "En la siguiente linea crearemos un generator comprehension"
   ]
  },
  {
   "cell_type": "code",
   "execution_count": 44,
   "metadata": {},
   "outputs": [
    {
     "name": "stdout",
     "output_type": "stream",
     "text": [
      "Nuestra palabra clave aparece: 188 veces\n"
     ]
    }
   ],
   "source": [
    "number_of_occurences = sum(KEYWORD in tweet for tweet in cleaned_tweets)\n",
    "print('Nuestra palabra clave aparece: {} veces'.format(number_of_occurences))"
   ]
  },
  {
   "cell_type": "markdown",
   "metadata": {},
   "source": [
    "### ¿Con cual frecuencia apareció?"
   ]
  },
  {
   "cell_type": "code",
   "execution_count": 45,
   "metadata": {},
   "outputs": [
    {
     "name": "stdout",
     "output_type": "stream",
     "text": [
      "Nuestra palabra clave apareció en: 62.666666666666664% de los tweets\n"
     ]
    }
   ],
   "source": [
    "print('Nuestra palabra clave apareció en: {}% de los tweets'.format(100 * number_of_occurences/NUMBER_OF_TWEETS))"
   ]
  },
  {
   "cell_type": "markdown",
   "metadata": {},
   "source": [
    "### ¿Cómo son los tweets que la contienen?"
   ]
  },
  {
   "cell_type": "code",
   "execution_count": 46,
   "metadata": {},
   "outputs": [
    {
     "name": "stdout",
     "output_type": "stream",
     "text": [
      "['no me dejes desistir',\n",
      " 'viiiiiiiiiiih parabens te desejo toda felicidade do mundo que deus te '\n",
      " 'ilumine cada vez mais',\n",
      " 'somos especialistas en chotear las famosas marchas alguien tiene que '\n",
      " 'explicar en donde danamos lo de odebrecht',\n",
      " 'eusgabs essa caralha num sabe dar uma setaanda seu porra sao as frases que '\n",
      " 'mais uso ksakssak',\n",
      " 'fieles seguidores para los que no saben  mi primer paso musical en grande '\n",
      " 'fue cuando era httpstcoajkxvwv',\n",
      " 'ramongguevaraad agradece al pueblo de merida los votos incendiando buses '\n",
      " 'yutong que los transporta y respeta la ra edad trafficpatriame',\n",
      " 'al enemigo lo que mas le molesta es el brillo que dios puso en ti tu brillo '\n",
      " 'fastidia a los que viven en la oscuridad feliz dia',\n",
      " 'halloween el  de octubre regresa dracula de bram stocker a bogota '\n",
      " 'encuentralo en charlot teatro httpstcoyrckpeozb',\n",
      " 'dejan sin efecto la eleccion de guanipa como gobernador del zulia  via '\n",
      " 'elestimulo  httpstcojsuogzgws httpstcotbogzyvub',\n",
      " 'algun pronunciamiento del generalnietor o policiacolombia mindefensa sobre '\n",
      " 'el uso excesivo de la fuerza a mujeres y ninos indigenas',\n",
      " 'hoy en el meta el senaresponde sobre la vigencia  httpstcoixobiuflh',\n",
      " 'metro medellin comparte con entes gestores setp caracteristicas de la '\n",
      " 'asistencia tecnica a transcaribesitm httpstcolejacizt',\n",
      " 'ya olvide tu nombre solo recuerdo que eres un excelente actor',\n",
      " 'caracas no tiene alcalde y esa es la verdad un inepto como jorge rodriguez '\n",
      " 'no merece ser llamado asi oct',\n",
      " 'esas personas que tratan mal a quien los atienden quien hijueputas se creen',\n",
      " 'exclusas de miraflores   photoshoot panamatravel citytour panamacanal '\n",
      " 'miraflores en httpstcobtqqvgqv',\n",
      " 'si ensenamos a los alumnos de hoy como ensenabamos ayer les estamos robado '\n",
      " 'el futuro  j deweyque gran verdad',\n",
      " 'andresmania gracias andres muy amable de su parte',\n",
      " 'las feriasdelcamposoberano fortalecen el desarrollo de la economia local y '\n",
      " 'la participacion de pequenos productores httpstcomubxduag',\n",
      " 'hola estoy obsesionada con mi cabello bye httpstcotmrxwqqotp',\n",
      " 'hoy no es un dia normal hoy juegaaaa junioooooor  vamosquevamos '\n",
      " 'juniorclubsa  copasudamericana',\n",
      " 'jovenbix videoxx gay chapinero callea noa cel  nudismo total fin de '\n",
      " 'semanaeste proximo  de niv httpstcolsaebri',\n",
      " 'vive sin rencores pero con memoria',\n",
      " 'worldboxingorg steveucnlive terryflanagan linares fight wasnt signed',\n",
      " 'laidygomezf vpitv oct laidygomezf le dice a sus detractores que gobernara '\n",
      " 'para todos',\n",
      " 'no hay nada mas rico que probar esa boquita',\n",
      " 'banda criminal esmad masacra campesinos ataca brutalmente a los indigenas y '\n",
      " 'viola derechos esenciales de la ciudadania catatumboresiste',\n",
      " 'les presento a mi crush httpstcoisiokdtv',\n",
      " 'ricardolombanag hare mis responsables esfuerzos como ciudadano para lograr '\n",
      " 'de que seas presidente de panama tengo httpstcogrocjfool',\n",
      " ' conmigo estas y como dice lacancionhttpstcosvshnzxrepost oscarcampo '\n",
      " 'httpstcovdagszjoc',\n",
      " ' imposible olvidar tu talismanirresistible remar contra tu atraccion ',\n",
      " 'lukeborgess bella',\n",
      " 'cliffkirby lo que queremos es un lider como toledo de peru que llamo a los '\n",
      " 'militares e inclusive llamo a la absten httpstcossnrzhnl',\n",
      " 'la nacionalizacion de franco armani no es un tema nuevo de esto ya habiamos '\n",
      " 'hablado hace tiempo en redmastv httpstcorpyqmlwoi',\n",
      " 'infosinbandera alojusticia cristinakirchner sabe q menos hablas y alegas en '\n",
      " 'audiencia  tribunales menos tienes d httpstconjebdytlt',\n",
      " 'gestionperfecta freddybernal el clap de sicarigua tiene proyecto '\n",
      " 'agroproductivo para impulsar la produccion de rubros esenciales',\n",
      " 'la mejor estrategia de retencion la tiene claroteayuda cuando llamas a pedir '\n",
      " 'cancelacion te dejan en la linea hasta q te aburres y cuelgas',\n",
      " 'solicita nuestra propuesta de servicio via correoevenclasscagmailcom festejo '\n",
      " 'eventossociales  anos httpstcopwnimxg',\n",
      " 'y sigo diciendo nadie es capaz de valorar lo que haces por ellos',\n",
      " 'enteratenuestras cuadrillasactivadas en cada rincon del municipio llevaron a '\n",
      " 'cabo desmalezamiento en los olivos httpstcoczbrrcyni',\n",
      " 'endirecto  ministro pinfantea el pais cuenta con  entrenadores que van a '\n",
      " 'pasar por todos los modulos de for httpstcocowdtfl',\n",
      " 'por que no una rica ensalada crispy  en bistrocolado esta espectacular '\n",
      " 'ensalada es con pollo httpstcohxwzwggxc',\n",
      " 'seguimos sorprendiendo y regalando momentos felices desayunos sorpresa '\n",
      " 'sorprende con amor san gil santander httpstcojwkhgoyh',\n",
      " 'labombateleven yoo quierooo serrr la animadoraaaaaa no me cansare de tuitear '\n",
      " 'por lograr lo que quieroooooo amen bombadeescandalo',\n",
      " 'esas son las vainas q me arrechan del gobierno  httpstcorcwoqcebqw',\n",
      " 'aestahora en coliseo de comuna  calico recibimos de alcaldiadecali parque '\n",
      " 'automotor elementos para sensibiliz httpstcovjzuizqhwk',\n",
      " 'jalejandro lisbethrosado secobrasvpar inspeccionamos cada detalle de esta '\n",
      " 'ejecucion que sin duda sera un atr httpstcoamrukrio',\n",
      " 'pabmgo nooooo yo soy un amor con mis clientes pero hay gente que ne verdad '\n",
      " 'de pasa  y esa senora se paso  inhala y exhala',\n",
      " 'alojusticia cristinakirchner sabe q menos hablas y alegas en audiencia  '\n",
      " 'tribunales menos tienes de demostrar pa probar en ambito juridico',\n",
      " ' estar sentada sin hacer nada mirando de lejos y estar relajada  en el patio '\n",
      " 'de lile httpstcogbpzpxpm',\n",
      " 'el clima de hoy en medellin es digno de una cobija caliente un chocolate '\n",
      " 'recien hervido y una buena pelicula pero esta el trabajo',\n",
      " 'hermanntertsch cuestion de accountability una palabra clara y precisa para '\n",
      " 'ocasiones como esta',\n",
      " 'ese video de paulina vega me arreglo el diaa ',\n",
      " 'si lo dice el presidente del senado que provoco la salida de pirrytv de rcn '\n",
      " 'por lios de tierra debe ser cierto httpstcopoqqezvqm',\n",
      " 'oscarcuadrosq hola oscar por favor a traves dm cuentanos detalles de lo que '\n",
      " 'ocurrio httpstcopbcvbrzx estamos atentos',\n",
      " 'buenos dias bebes ',\n",
      " 'invitados a conocer al ganador del premiocuentoggm  noviembre  a las  am en '\n",
      " 'miteatrocolon httpstcoooesnammq',\n",
      " 'cliffkirby lo que necesitamos toledo afirma que peru es una dictadura y pide '\n",
      " 'al ejercito que abandone a fujimori httpstcoeeddwudn',\n",
      " 'oct cerrada via charallave  ocumare por enfrentamiento delincuentes '\n",
      " 'activaron  granadas contra ose httpstcoofgcvrlck  cesguar',\n",
      " 'jairldu davilaaurelio dannyfabia si es que fuese asi mas vergonzoso es negar '\n",
      " 'los genes porque te parieron en otro suelo jajajaja',\n",
      " 'revistasemana oizuluaga honorablemente corrupta y tiene el descaro de sacar '\n",
      " 'pecho cuando se archiva su caso por httpstcohniatvv',\n",
      " 'srk duele y pareciera que la unica cura esta en comprar un pasaje a '\n",
      " 'cualquier fucking lado que no sea este',\n",
      " 'karymelozano hola  kary q mala  en volver a  empezar y el manantial tambien  '\n",
      " 't veo en el talisman besos y bendiciones',\n",
      " 'cafefutbolred futbolred pajaritodeivan no nacionalizar y convocar a armani  '\n",
      " 'estan pintados los que no creen en este pais ',\n",
      " 'club rotario de bogota en su bingo anual en favor de las comunidades con  '\n",
      " 'alto riesgo de httpstcofnhxkldo',\n",
      " 'fabricallejero secardenyt jajajaja creo que no has jugado pes antes es un '\n",
      " 'poco fastidioso que defensas lentos httpstcofenpjjrez',\n",
      " 'aestahora damos inicio jornada de atencion y orientacion a ciudadanos '\n",
      " 'venezolanos sobre situacion migratoria httpstcopuyxakz',\n",
      " 'desde ibague estudiantes siguen comprometidos con la semana '\n",
      " 'contralosmosquitos y promueven con murales algunas a httpstcohqakliyi',\n",
      " 'hoy evento de cuenteria  gratis  udenar udenardigital halloween cuentos '\n",
      " 'pasto felizjueves httpstcomnucbian',\n",
      " 'anoche estuvimos en el gaming market colombia  con nuestra banda de jazz '\n",
      " 'manouche no busques httpstcoblcdcbcrq',\n",
      " 'the more you say no and loudly the less they will ask mauricioramos '\n",
      " 'oncorruption and privatesector seaif',\n",
      " 'ya bane a los tres perros y los seque a los tres soy es yo en k',\n",
      " 'la freskola aun se vende en villavicencio wradiocolombia ',\n",
      " 'hallofridayuna noche para comenzar el halloweenluxury como se debe la mejor '\n",
      " 'fiesta urbana de httpstcomfssihxku',\n",
      " 'mi profesor de to ano que me envio nudes hizo un taller en el colegio donde '\n",
      " 'estudie llamado me envio nudes y ahor httpstcogruvxvpr',\n",
      " 'enrique iglesias so tem hino',\n",
      " 'es demasiado aburrido no estar a tu lado',\n",
      " 'es genial ver el uso de mis productos silalexanderarz en la emision de '\n",
      " 'citytv en uno de mis clientes en pontevedra spa losdelbarrio',\n",
      " 'tripneustes ventricosus o erizo blanco le gusta camuflarse con el fondo '\n",
      " 'herbivoros importante en los ecosistema httpstcowbabquovi',\n",
      " 'aprende a descansar no ha renunciar',\n",
      " 'solicite una evaluacion de distritos educativos queremos a los mejores '\n",
      " 'profesionales en el equipo fanderfalconi httpstcoidbpbkcmjb',\n",
      " 'faltan dos dias y aun estoy sin saber que hacer ',\n",
      " 'yo soy un imbecil que no aprende de los errores del pasado por eso me cogen '\n",
      " 'de marica httpstcoxxqcmau',\n",
      " 'labombateleven bombadeescandalo losss mejoreeess yoo quierooo ser la '\n",
      " 'ganadoraa participando desde siempreeeeee bombadeescandalo',\n",
      " 'gracias idtbogota enriquepenalosa  joseduarteg seguimos comprometidos en la '\n",
      " 'construccion del destino turistico q httpstcolhreyiqsup',\n",
      " 'conferencia sobre etica judicial en el consejodeestado httpstcovjabcip',\n",
      " 'holajuevesdeganarseguidores',\n",
      " 'oct a pesar de autoexclusion en este momento varios dirigentes de ad '\n",
      " 'celebrando por esta via la juramentacion de laidy gomez aaad',\n",
      " 'linavegaabad elgallinazo pgnpanama pero lo peor es que el mp no cumple las '\n",
      " 'garantias y el debido proceso',\n",
      " 'proximamente televentv transmitira la trepadora cuyo tema central solamente '\n",
      " 'tu es interpretado por mi representado rommelrodriguen dtb',\n",
      " 'danielamejiat jajaja no estoy ahorrando para nuestro matrimonio ',\n",
      " 'entrega inmediata llegaron   meses  meses talla  talla  talla  talla  linda '\n",
      " 'httpstcodiyhoyzmx',\n",
      " 'estos son recuerdo cuando este par socios decidieron conocer el pais de '\n",
      " 'kperezleon bastante q lo disfrutaron yo httpstcoirtjawzbr',\n",
      " 'cuando le digo a mi mami que la amo pero esta echando chisme por telefono '\n",
      " 'con mis tias y me ignora httpstcobkkbqam',\n",
      " 'tu lo que quiere es que te coma el tigre',\n",
      " 'igual pasa en nueva gorgona todos los fines de semana y gnfpa no hace nada '\n",
      " 'pero el recibo de luz si llega a tiem httpstcokpdyeeoiy',\n",
      " 'nada como un sexy culito para alegrarte el dia  mg y rt si quieres con '\n",
      " 'migo   httpstcovktgtmz',\n",
      " 'uno de los privilegios de alquilar un apto cerca a la bahia  es gozar del '\n",
      " 'pasaje peatonal para httpstcosdtfmrkx',\n",
      " 'grande martin oigan oigan  bueno pues en guatapuri plaza httpstcowixljqqfq',\n",
      " 'hoy es dia de cazuelas hoy es x x  solo en elfarodemaradentro aprovecha hoy '\n",
      " 'nuestra httpstcoliwzxxrve',\n",
      " 'anlacol sabe proyecto sotonorte de minesacol esta parcialmente en zona '\n",
      " 'restauracion otro motivo para negar licencia mccconciencia',\n",
      " 'pues si estas conmigo ya no hara falta nada',\n",
      " 'no se cual es el afan de ciertos odontologos en llenar los dientes al '\n",
      " 'paciente con resina cuando se le pueden brindar otras opciones de tto',\n",
      " 'gestionperfecta taylorodriguez tenemos proyecto de granja integral para la '\n",
      " 'epsdc robert serra del mcpio torres',\n",
      " 'tendencias que nos roban el corazon morrales beker la ultima moda intagram '\n",
      " 'modafemenina httpstcolktyxyjoj',\n",
      " 'acho que vou fazer outro make halloween pq sou dessas',\n",
      " 'oye loko del atico rafik porque no sigues jodiendo o la conciencia t hace '\n",
      " 'ver la realidad kmo dejaste el pais q cada dia sale mas pus cdtm',\n",
      " 'aprende a descansar no a renunciar',\n",
      " 'muy pronto me sacare la espinita ',\n",
      " 'labombateleven bombadeescandalo yooo quierooo ser la ganadoraa me ganare '\n",
      " 'eseee dia de fama mueroo por estar con ustedes',\n",
      " 'yebkira davilaaurelio dannyfabia jajajajajaja no demuestren tanto que sin '\n",
      " 'altura y horario sienten que pier httpstconcksgopvx',\n",
      " 'ella esta bien solo le hace falta la ortodoncia rinoplastia la lipo y ya',\n",
      " 'y esta cefalea que me acompana desde que desperte sera que no se piensa ir  ',\n",
      " 'ronaldquintero luchyb schonenblauen ronald lleva a tu nina a orsoheladeria '\n",
      " 'te mueres de la emocion y ella mas',\n",
      " 'hace poco mas de  anos vendi la mitad de mi por eso cielo no me lleva a '\n",
      " 'plenitud pero algo tenia que hacer por ti aq',\n",
      " 'buenos dias continuamos con preparacion de pitch nuestro mentor '\n",
      " 'andresbuitragof realiza una sesion especial jun httpstcohjuhdfcbv',\n",
      " 'oct si observas alguna irregularidad contacta nuestros canales de '\n",
      " 'comunicacion y presenta la denuncia seniatrno httpstcobjkbfwjt',\n",
      " 'en el primer mundo convocan jugadores nacionalizados y hasta campeones del '\n",
      " 'mundo salen los montaneros de aca no lo podrian aceptar',\n",
      " 'venezlana no soy chavista pero como medio estoy observando en empresaspolar '\n",
      " 'los altos sueldos de sus ejecutiv httpstcovmqmnpnv',\n",
      " 'revistasemana mojigatos  si hubiese sido una profesional femenina  habrias '\n",
      " 'denunciado  este guevon cree que todos admiramos su profesion',\n",
      " 'cual es el limite entre el marketing y la corrupcion la respuesta en el '\n",
      " 'taller de dilemas eticos por la experta httpstcouaptyvqr',\n",
      " 'cliffkirby abstencionrenuncia a hacer algo especialmente a emitir el voto en '\n",
      " 'una votacionel jefe de la oposic httpstcojtijvtmod',\n",
      " 'en medio de las diferentes adversidades de la vida solo dios da '\n",
      " 'fuerzascreenos vale la penacenfolpoblado fuerza httpstcoqvmmpvdbk',\n",
      " 'envivo lic jaime bowen directivo del aucas  hace ya varios meses no se le '\n",
      " 'debe a ningun jugador',\n",
      " 'te esperamos este oct a la gran caminata rosa por la lucha contra el cancer '\n",
      " 'de mama httpstcovmscwzdvif httpstcooinqyimhay',\n",
      " 'muy buenos dias para todos este proximo  y  de noviembre tendremos el '\n",
      " 'festival de httpstcodiglgfxh',\n",
      " 'este sabado tendremos skillsligacapitalina para la categoria sub en las '\n",
      " 'pruebas sniper httpstcovlztxrhu',\n",
      " 'quimintsa misionpyme holamuchas gracias por utilizar nuestros servicios y '\n",
      " 'por creer en el poder de hacer las c httpstcovjrlhcxdns',\n",
      " 'aestahora en tunja participamos en rendicion publica de cuentas senacomunica '\n",
      " 'boyaca gjjuliet boyacaesnoticia httpstcoehrayxzzf',\n",
      " 'a carlo ginzburg no le gusta el aquelarre de la un cuando vayan a hacer uno '\n",
      " 'en el sentido estricto de la palabra me llaman',\n",
      " 'actualizacion sobre el movimiento  se entregaran  millones de firmas '\n",
      " 'httpstcotvaama via changeorglatino',\n",
      " 'hoy es un gran dia para el valleoropuro superamos record de medallas  en '\n",
      " 'final nacional de juegos httpstcofobbill',\n",
      " 'nuevo reporte del estadodelasvias en caldas para hoy combos de maquinaria de '\n",
      " 'la gobernacion atentos httpstcobnhhuhy',\n",
      " 'ahora  fiscal general tarekwiliamsaab ofrece declaraciones acerca del caso '\n",
      " 'cadivicencoex por vivetv',\n",
      " 'xsplitbrasil  precisamos discutir nosso relacionamento andei sabendo que a '\n",
      " 'terabyteshop  recebeu uns nudes ai',\n",
      " ' hay lugares donde solo se llega viajando en canciones  httpstcowjcppd',\n",
      " 'htve desayunostve todo ha sido dicho y repetido ahora queda la accion una '\n",
      " 'sola espana basado en constitucion httpstcotwkcoijll',\n",
      " 'en fedeloja se efectua curso formacion de monitores en deporte para todos y '\n",
      " 'medio ambiente dictado por personero httpstcolbwzhswgu',\n",
      " 'imagino nossa geracao futuramente contando pra filhos e netos do show do '\n",
      " 'luan golaco de falta do edilson o milagre do grohe inesquecivel',\n",
      " 'besame',\n",
      " 'ese arroz chino se ve malandrito jaja',\n",
      " 'son unos asesinos a sangre fria ni mas ni menos deben de pagar los tres por '\n",
      " 'lo sucedido httpstcovehfjoz',\n",
      " 'gestionperfecta taylorodriguez el proyecto de granja integral es para '\n",
      " 'fortalecer  la empresa de gas comunal creada en el mcpio torres',\n",
      " 'elarracadas lo que da rabia es que fijo en cali no nos dan entrada  santafe '\n",
      " 'siempre deja entrar al visitante y a nosotros casi no',\n",
      " 'volvemos y esta vez con una historia escrita por diort bajo el lente de '\n",
      " 'kevaraque arakeph httpstcohpbkbi',\n",
      " 'lo peor de todo es que me naciera el quererte ver despues de tanto tiempo ',\n",
      " 'a veces me temo que tanta burla por los adidas es falta de plata',\n",
      " 'hopefully inequality decreases at the same pace httpstcojdofgaskc',\n",
      " 'te invitamos al do congreso internacional en innovacion en la gestion de '\n",
      " 'organizaciones httpstcotjyhatttz httpstcoywqqdwb',\n",
      " 'concentramos esfuerzos para contribuir con el desarrollo de la patria '\n",
      " 'nadanosdetiene ftoledorno seniatrno httpstcolqioziohh',\n",
      " 'no voy a comprar el note porque esta muy caro es hora de cambiar me voy por '\n",
      " 'el motoz  httpstcowjbwhfph',\n",
      " 'cliffkirby abstencionistaadjetivodel abstencionismo o relacionado con esta '\n",
      " 'actitudla consigna abstencionista del partido radical',\n",
      " 'estallido social httpstcootdhjxy apintegra rlozinski armandomartini pburelli '\n",
      " 'elpolitwico geopolytica colominam omarbula',\n",
      " 'dimeyusti que raza es',\n",
      " 'premiumtips de panamapremiumwater es recomendable tomar la cantidad de agua '\n",
      " 'diaria que te httpstcodbpacbxwgr',\n",
      " 'este throwbackthursday es para recordar esos tiempos en que solo '\n",
      " 'httpstcofvqzgoozpz',\n",
      " 'el exito en la vida no lo mides por lo que logras si no por los obstaculos '\n",
      " 'que superas',\n",
      " 'el ano pasado yo toda ardida con perdon ha ash hoy que ya supere ese tema me '\n",
      " 'tanta risa uno entusado si es bien estupido ',\n",
      " 'labombateleven es que seria un sueno cumplido animar con newmakerq '\n",
      " 'andreinacastro el programa que me gusta mas diooss bombadeescandalo',\n",
      " 'en radionica estamos alaire con wakkotop integrante de radio calavera  los '\n",
      " 'invitamos a sintonizar  fm httpstcowyuxpfvj',\n",
      " 'endirecto  fiscal general tarekwiliamsaab anuncia nuevas acciones en casos '\n",
      " 'de la faja petrolifera del orinoco y httpstcoqhmgwmayy',\n",
      " 'maracayactiva poto facil cuando necesitan aguardiente van saquean las '\n",
      " 'licorerias despues salen a votar x el p httpstcorevvwrrfyp',\n",
      " 'cada vez que pierdo me dan ganas de eliminar esa app',\n",
      " 'en encuentro turismodenaturaleza   destacamos iniciativas mincomercioco para '\n",
      " 'fortalecer infraestructura turistica httpstcodzrupmea',\n",
      " ' metalzamora sigue trabajando por el desarrollo de la patria actualmente '\n",
      " 'esta desarrollando un proyecto de vario httpstcoozsvcvpz',\n",
      " 'para adaptarnos al cambio climatico la santamartadtch a traves de la '\n",
      " 'gestionriesgosm y dadsasm con el gricc est httpstcobklxmcm',\n",
      " 'alcaldiademed no le caeria mal una  a los andenes de la cll a por la '\n",
      " 'canalizacion hasta la cra  me dicen qu httpstcojrmmhcija',\n",
      " 'pita merda essas novas skins',\n",
      " 'tbt visita de fhermana a escuela de musica apoyada por fundselvanegra en '\n",
      " 'bogota colombia httpstcoukrkmbbllm',\n",
      " 'no tengo telefono desde el  de diciembre del ',\n",
      " 'tipsparaelbienestar unmedellin apropia espacios de dialogo para resolver las '\n",
      " 'dificultades con las demas personas httpstcoeyekhv',\n",
      " 'laconviasa cruzarteagav asesoria tecnica en materia de bienes publicos a los '\n",
      " 'organos y entes del sector publico contactame',\n",
      " 'roquecastro narco regimen desesperadoscava mas su tumbavendra rebelion',\n",
      " 'oct te ofrecemos tramites en linea iva islr rif retenciones sucesiones y '\n",
      " 'sidunea  httpstcostaaoyemf  httpstcoynquitoej',\n",
      " 'medellin esta noche pm en el blue sera la graduacion de mi mas reciente '\n",
      " 'taller grupal de standup comedy los e httpstcodxircjdbez',\n",
      " 'labombateleven me encantaa este programaa por siempreeeeee me encantara  '\n",
      " 'bombadeescandalo',\n",
      " 'sismo de  grados sacudio el nororiente del paisel epicentro fue la cabecera '\n",
      " 'municipal de pueblo belloen cesar httpstcoidkragqqe',\n",
      " 'juanpguanipa desibarboza pjzulia unidadvenezuela mudzulia el pueblo lo '\n",
      " 'eligio cn voto popular y unos cabeza httpstcohoeanuvztp',\n",
      " 'tbt grandes amistades vea   en valledupar cesar httpstcomdbrgccyhz',\n",
      " 'y no crean que es la seleccion la que nacionaliza gente no sean burros es la '\n",
      " 'persona la que decide nacionalizarse si cumple los requisitos',\n",
      " 'tienen que venir a probar estofrutososdelpulpas caleonr en bogota colombia '\n",
      " 'httpstcowwvcnqmt',\n",
      " 'si estas pensando que regararle a ese ser especial o  simplemente amigo  que '\n",
      " 'mejor que momento httpstcohrfpbbah',\n",
      " ' jovenes dispuestos y preparados para apoyar el servicio en convivencia y '\n",
      " 'seguridad ciudadana policiaguaviare httpstcoelrhadg',\n",
      " 'lo siento no me gusta peinarme asidesencillo  proxima parada dios mediante '\n",
      " 'pasto narino en httpstconrxhgjgxmp',\n",
      " 'rt canaldepanama recopilando todas las publicaciones sobre transito del '\n",
      " 'caribbean princess haz click en la imagen httpstcoyksgccyqej',\n",
      " 'lcvelez hombre  el concierto del sabado de orishas se cancelo por que el '\n",
      " 'artista no esta enterado  httpstcohvujjszvc',\n",
      " 'labombateleven bombadeescandalo loss mejorees que tubazosss',\n",
      " 'minppibes nicolasmaduro asesoria tecnica en materia de bienes publicos a los '\n",
      " 'organos y entes del sector publico contactame']\n"
     ]
    }
   ],
   "source": [
    "pprint([tweet for tweet in cleaned_tweets if KEYWORD in tweet])"
   ]
  },
  {
   "cell_type": "markdown",
   "metadata": {},
   "source": [
    "### ¿Cuál es la distancia promedia entre ocurrencias consecutivas?"
   ]
  },
  {
   "cell_type": "code",
   "execution_count": 47,
   "metadata": {
    "collapsed": true
   },
   "outputs": [],
   "source": [
    "indices_of_tweets_containing_keyword = [index for index, tweet in enumerate(cleaned_tweets) if KEYWORD in tweet]"
   ]
  },
  {
   "cell_type": "code",
   "execution_count": 48,
   "metadata": {},
   "outputs": [
    {
     "data": {
      "text/plain": [
       "[0,\n",
       " 1,\n",
       " 3,\n",
       " 4,\n",
       " 5,\n",
       " 6,\n",
       " 7,\n",
       " 8,\n",
       " 9,\n",
       " 10,\n",
       " 11,\n",
       " 15,\n",
       " 16,\n",
       " 17,\n",
       " 18,\n",
       " 19,\n",
       " 20,\n",
       " 21,\n",
       " 22,\n",
       " 24,\n",
       " 26,\n",
       " 27,\n",
       " 30,\n",
       " 32,\n",
       " 33,\n",
       " 34,\n",
       " 36,\n",
       " 38,\n",
       " 42,\n",
       " 43,\n",
       " 44,\n",
       " 45,\n",
       " 47,\n",
       " 48,\n",
       " 52,\n",
       " 53,\n",
       " 54,\n",
       " 55,\n",
       " 56,\n",
       " 59,\n",
       " 60,\n",
       " 61,\n",
       " 62,\n",
       " 63,\n",
       " 65,\n",
       " 66,\n",
       " 67,\n",
       " 68,\n",
       " 70,\n",
       " 71,\n",
       " 72,\n",
       " 73,\n",
       " 76,\n",
       " 78,\n",
       " 81,\n",
       " 82,\n",
       " 83,\n",
       " 84,\n",
       " 85,\n",
       " 88,\n",
       " 89,\n",
       " 91,\n",
       " 92,\n",
       " 94,\n",
       " 101,\n",
       " 102,\n",
       " 104,\n",
       " 105,\n",
       " 106,\n",
       " 107,\n",
       " 108,\n",
       " 111,\n",
       " 113,\n",
       " 115,\n",
       " 117,\n",
       " 118,\n",
       " 119,\n",
       " 120,\n",
       " 122,\n",
       " 123,\n",
       " 124,\n",
       " 125,\n",
       " 127,\n",
       " 128,\n",
       " 129,\n",
       " 131,\n",
       " 132,\n",
       " 134,\n",
       " 135,\n",
       " 136,\n",
       " 138,\n",
       " 139,\n",
       " 140,\n",
       " 142,\n",
       " 147,\n",
       " 148,\n",
       " 149,\n",
       " 151,\n",
       " 152,\n",
       " 153,\n",
       " 155,\n",
       " 156,\n",
       " 157,\n",
       " 158,\n",
       " 163,\n",
       " 164,\n",
       " 165,\n",
       " 167,\n",
       " 168,\n",
       " 170,\n",
       " 172,\n",
       " 177,\n",
       " 178,\n",
       " 179,\n",
       " 181,\n",
       " 183,\n",
       " 184,\n",
       " 187,\n",
       " 188,\n",
       " 189,\n",
       " 191,\n",
       " 192,\n",
       " 197,\n",
       " 198,\n",
       " 201,\n",
       " 202,\n",
       " 203,\n",
       " 204,\n",
       " 205,\n",
       " 208,\n",
       " 209,\n",
       " 210,\n",
       " 213,\n",
       " 214,\n",
       " 217,\n",
       " 219,\n",
       " 220,\n",
       " 223,\n",
       " 224,\n",
       " 225,\n",
       " 226,\n",
       " 228,\n",
       " 229,\n",
       " 230,\n",
       " 231,\n",
       " 232,\n",
       " 233,\n",
       " 235,\n",
       " 236,\n",
       " 237,\n",
       " 238,\n",
       " 241,\n",
       " 242,\n",
       " 243,\n",
       " 245,\n",
       " 248,\n",
       " 249,\n",
       " 252,\n",
       " 255,\n",
       " 260,\n",
       " 263,\n",
       " 264,\n",
       " 265,\n",
       " 266,\n",
       " 267,\n",
       " 268,\n",
       " 270,\n",
       " 271,\n",
       " 272,\n",
       " 273,\n",
       " 274,\n",
       " 275,\n",
       " 276,\n",
       " 278,\n",
       " 280,\n",
       " 281,\n",
       " 283,\n",
       " 284,\n",
       " 287,\n",
       " 288,\n",
       " 290,\n",
       " 291,\n",
       " 292,\n",
       " 293,\n",
       " 295,\n",
       " 296,\n",
       " 297,\n",
       " 298]"
      ]
     },
     "execution_count": 48,
     "metadata": {},
     "output_type": "execute_result"
    }
   ],
   "source": [
    "indices_of_tweets_containing_keyword"
   ]
  },
  {
   "cell_type": "code",
   "execution_count": 49,
   "metadata": {
    "collapsed": true
   },
   "outputs": [],
   "source": [
    "distances_between_indices_of_tweets_containing_keyword = [\n",
    "    second_index - first_index for first_index, second_index in \\\n",
    "        zip(indices_of_tweets_containing_keyword[:-1], indices_of_tweets_containing_keyword[1:])\n",
    "]"
   ]
  },
  {
   "cell_type": "code",
   "execution_count": 50,
   "metadata": {},
   "outputs": [
    {
     "data": {
      "text/plain": [
       "<matplotlib.axes._subplots.AxesSubplot at 0x7f4026dbb320>"
      ]
     },
     "execution_count": 50,
     "metadata": {},
     "output_type": "execute_result"
    },
    {
     "data": {
      "image/png": "[encoded data removed]",
      "text/plain": [
       "<matplotlib.figure.Figure at 0x7f4026c0ac88>"
      ]
     },
     "metadata": {},
     "output_type": "display_data"
    }
   ],
   "source": [
    "pd.Series(distances_between_indices_of_tweets_containing_keyword).hist()"
   ]
  },
  {
   "cell_type": "markdown",
   "metadata": {},
   "source": [
    "# Construir un modelo"
   ]
  },
  {
   "cell_type": "code",
   "execution_count": 51,
   "metadata": {
    "collapsed": true
   },
   "outputs": [],
   "source": [
    "import matplotlib.pyplot as plt\n",
    "import numpy as np\n",
    "from scipy.stats import beta as beta_distribution"
   ]
  },
  {
   "cell_type": "markdown",
   "metadata": {},
   "source": [
    "### Definir los parámetros de un Beta Distribution"
   ]
  },
  {
   "cell_type": "code",
   "execution_count": 52,
   "metadata": {
    "collapsed": true
   },
   "outputs": [],
   "source": [
    "alpha = 1 + number_of_occurences\n",
    "beta = 1 + (NUMBER_OF_TWEETS - number_of_occurences)\n",
    "\n",
    "x_values = np.linspace(0, 1, 1002)[1:-1]\n",
    "pdf_y_values = beta_distribution(alpha, beta).pdf(x_values)\n",
    "cdf_y_values = np.cumsum(pdf_y_values) / np.sum(pdf_y_values)"
   ]
  },
  {
   "cell_type": "markdown",
   "metadata": {},
   "source": [
    "### Visualizar"
   ]
  },
  {
   "cell_type": "markdown",
   "metadata": {},
   "source": [
    "![](http://i.imgur.com/mj059cS.png)"
   ]
  },
  {
   "cell_type": "code",
   "execution_count": 53,
   "metadata": {
    "scrolled": false
   },
   "outputs": [
    {
     "data": {
      "image/png": "[encoded data removed]",
      "text/plain": [
       "<matplotlib.figure.Figure at 0x7f4026d050f0>"
      ]
     },
     "metadata": {},
     "output_type": "display_data"
    }
   ],
   "source": [
    "plt.figure(figsize=(18, 6))\n",
    "\n",
    "# PDF\n",
    "plt.subplot(121)\n",
    "\n",
    "plt.plot(x_values, pdf_y_values, label=(r'$\\alpha=%.1f,\\ \\beta=%.1f$' % (alpha, beta)))\n",
    "\n",
    "plt.xlim(0, 1)\n",
    "plt.xlabel('Probability of tweet containing keyword')\n",
    "plt.ylabel('Probability density')\n",
    "plt.title('Beta Distribution PDF')\n",
    "plt.legend(loc=1)\n",
    "\n",
    "\n",
    "# CDF\n",
    "plt.subplot(122)\n",
    "\n",
    "plt.plot(x_values, cdf_y_values)\n",
    "\n",
    "plt.xlim(0, 1)\n",
    "plt.ylim(0, 1.005)\n",
    "plt.yticks(np.linspace(0, 1, 21))\n",
    "plt.xlabel('Probability of tweet containing keyword')\n",
    "plt.ylabel('Cumulative probability')\n",
    "plt.title('Beta Distribution CDF')\n",
    "\n",
    "plt.show()"
   ]
  },
  {
   "cell_type": "markdown",
   "metadata": {},
   "source": [
    "# Comunicar resultados"
   ]
  },
  {
   "cell_type": "markdown",
   "metadata": {},
   "source": [
    "### Con 90% de certeza, digamos que la verdadera probabilidad:"
   ]
  },
  {
   "cell_type": "code",
   "execution_count": 54,
   "metadata": {
    "collapsed": true
   },
   "outputs": [],
   "source": [
    "fifth_percentile = max(\n",
    "    [x_value for x_value, y_value in zip(x_values, cdf_y_values) if y_value <= .05]\n",
    ")\n",
    "\n",
    "ninety_fifth_percentile = max(\n",
    "    [x_value for x_value, y_value in zip(x_values, cdf_y_values) if y_value <= .95]\n",
    ")"
   ]
  },
  {
   "cell_type": "code",
   "execution_count": 55,
   "metadata": {},
   "outputs": [
    {
     "name": "stdout",
     "output_type": "stream",
     "text": [
      "Con 90% de certeza digamos que la verdadera probabilidad se encuentra entre: 0.5784 y 0.6703\n"
     ]
    }
   ],
   "source": [
    "print('Con 90% de certeza digamos que la verdadera probabilidad se encuentra entre: {} y {}'.format(\n",
    "    round(fifth_percentile, 4), round(ninety_fifth_percentile, 4)))"
   ]
  },
  {
   "cell_type": "markdown",
   "metadata": {},
   "source": [
    "### La probabilidad que la verdadera probabilidad (de que un tweet contiene nuesta palabra clave) sea más grande de .1:"
   ]
  },
  {
   "cell_type": "code",
   "execution_count": 56,
   "metadata": {
    "collapsed": true
   },
   "outputs": [],
   "source": [
    "def compute_total_probability_that_probability_less_than_p(p):\n",
    "    return max(cumulative_prob for cumulative_prob, x_value in zip(cdf_y_values, x_values) if x_value < p)"
   ]
  },
  {
   "cell_type": "code",
   "execution_count": 58,
   "metadata": {},
   "outputs": [
    {
     "name": "stdout",
     "output_type": "stream",
     "text": [
      "La probabilidad que la verdadera probabilidad es > .1 es: 0.003112524250928894\n"
     ]
    }
   ],
   "source": [
    "print('La probabilidad que la verdadera probabilidad es > .1 es: {}'.format(\n",
    "    1 - compute_total_probability_that_probability_less_than_p(.7))\n",
    ")"
   ]
  },
  {
   "cell_type": "code",
   "execution_count": null,
   "metadata": {
    "collapsed": true
   },
   "outputs": [],
   "source": []
  },
  {
   "cell_type": "code",
   "execution_count": null,
   "metadata": {
    "collapsed": true
   },
   "outputs": [],
   "source": []
  },
  {
   "cell_type": "code",
   "execution_count": null,
   "metadata": {
    "collapsed": true
   },
   "outputs": [],
   "source": []
  },
  {
   "cell_type": "code",
   "execution_count": null,
   "metadata": {
    "collapsed": true
   },
   "outputs": [],
   "source": []
  }
 ],
 "metadata": {
  "kernelspec": {
   "display_name": "Python 3",
   "language": "python",
   "name": "python3"
  },
  "language_info": {
   "codemirror_mode": {
    "name": "ipython",
    "version": 3
   },
   "file_extension": ".py",
   "mimetype": "text/x-python",
   "name": "python",
   "nbconvert_exporter": "python",
   "pygments_lexer": "ipython3",
   "version": "3.5.3"
  }
 },
 "nbformat": 4,
 "nbformat_minor": 1
}
